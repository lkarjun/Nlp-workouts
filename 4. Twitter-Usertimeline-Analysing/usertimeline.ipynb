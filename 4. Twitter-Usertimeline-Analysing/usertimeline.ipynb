{
 "cells": [
  {
   "cell_type": "markdown",
   "metadata": {},
   "source": [
    "## User TimeLine Analysing"
   ]
  },
  {
   "cell_type": "code",
   "execution_count": 1,
   "metadata": {},
   "outputs": [],
   "source": [
    "import tweepy\n",
    "import pandas as pd"
   ]
  },
  {
   "cell_type": "code",
   "execution_count": 3,
   "metadata": {},
   "outputs": [],
   "source": [
    "app_api_key = 'dcnhAmPLv9oSecC3zQgL6itOy'\n",
    "app_api_secret_key = 'zEJf0peEPhRY38jxaXSq5QI9AAiU6CgH5gRul7SLM0nyQKl1E9'\n",
    "\n",
    "\n",
    "auth = tweepy.AppAuthHandler(app_api_key, app_api_secret_key)"
   ]
  },
  {
   "cell_type": "code",
   "execution_count": 5,
   "metadata": {},
   "outputs": [],
   "source": [
    "def get_tweets(username: str):\n",
    "    api = tweepy.API(\n",
    "            auth,\n",
    "            wait_on_rate_limit=True\n",
    "        )\n",
    "\n",
    "    tweets = tweepy.Cursor(\n",
    "            api.user_timeline,\n",
    "            screen_name = username,\n",
    "            tweet_mode = 'extended',\n",
    "            count = 1000\n",
    "        )\n",
    "    \n",
    "    tweets = [tweet._json for tweet in tweets]\n",
    "    df = pd.\n"
   ]
  },
  {
   "cell_type": "code",
   "execution_count": null,
   "metadata": {},
   "outputs": [],
   "source": []
  }
 ],
 "metadata": {
  "interpreter": {
   "hash": "29d931925a3468ac47683612d5fcb0ee6127f24b4269139a9a8900eb1398b858"
  },
  "kernelspec": {
   "display_name": "Python 3.9.5 64-bit ('Nlp-workouts-UIUQSEr-': pipenv)",
   "language": "python",
   "name": "python3"
  },
  "language_info": {
   "codemirror_mode": {
    "name": "ipython",
    "version": 3
   },
   "file_extension": ".py",
   "mimetype": "text/x-python",
   "name": "python",
   "nbconvert_exporter": "python",
   "pygments_lexer": "ipython3",
   "version": "3.9.5"
  },
  "orig_nbformat": 4
 },
 "nbformat": 4,
 "nbformat_minor": 2
}
