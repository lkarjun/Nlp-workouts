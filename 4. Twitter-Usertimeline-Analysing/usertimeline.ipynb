{
 "cells": [
  {
   "cell_type": "markdown",
   "metadata": {},
   "source": [
    "## User TimeLine Analysing"
   ]
  },
  {
   "cell_type": "code",
   "execution_count": 83,
   "metadata": {},
   "outputs": [],
   "source": [
    "import tweepy\n",
    "import pandas as pd\n",
    "import dateutil.parser\n",
    "import re"
   ]
  },
  {
   "cell_type": "code",
   "execution_count": 4,
   "metadata": {},
   "outputs": [],
   "source": [
    "app_api_key = '-'\n",
    "app_api_secret_key = '-'\n",
    "\n",
    "\n",
    "auth = tweepy.AppAuthHandler(app_api_key, app_api_secret_key)"
   ]
  },
  {
   "cell_type": "code",
   "execution_count": 53,
   "metadata": {},
   "outputs": [],
   "source": [
    "def get_tweets(username: str, count: int = 1000, remove_rt: bool = False):\n",
    "    '''get tweets tweeted by specific user'''\n",
    "    api = tweepy.API(\n",
    "            auth,\n",
    "            wait_on_rate_limit=True\n",
    "        )\n",
    "\n",
    "    tweets = tweepy.Cursor(\n",
    "            api.user_timeline,\n",
    "            screen_name = username,\n",
    "            tweet_mode = 'extended',\n",
    "            count = count\n",
    "        ).items()\n",
    "    \n",
    "    tweets = [tweet._json for tweet in tweets]\n",
    "    df = pd.json_normalize(tweets)\n",
    "    if remove_rt:\n",
    "        return df[~df['retweeted_status.id'].isna()]\n",
    "    return df[df['retweeted_status.id'].isna()]\n"
   ]
  },
  {
   "cell_type": "code",
   "execution_count": 58,
   "metadata": {},
   "outputs": [
    {
     "name": "stdout",
     "output_type": "stream",
     "text": [
      "Tweets from:  Fri Aug 07 11:01:38 +0000 2020 Wed Sep 11 03:40:28 +0000 2019\n",
      "Total tweets:  262\n"
     ]
    }
   ],
   "source": [
    "df = get_tweets('bmwindia', 1000, True)\n",
    "print(\"Tweets from: \", df['created_at'].min(), df['created_at'].max())\n",
    "print(\"Total tweets: \", len(df))"
   ]
  },
  {
   "cell_type": "code",
   "execution_count": 84,
   "metadata": {},
   "outputs": [],
   "source": [
    "df_clean = df[['created_at', 'full_text']].reset_index()"
   ]
  },
  {
   "cell_type": "code",
   "execution_count": 85,
   "metadata": {},
   "outputs": [],
   "source": [
    "def parse_date(doc):\n",
    "    date = dateutil.parser.parse(doc)\n",
    "    return str(date.date())"
   ]
  },
  {
   "cell_type": "code",
   "execution_count": 86,
   "metadata": {},
   "outputs": [],
   "source": [
    "df_clean['created_at'] = df_clean['created_at'].map(parse_date)"
   ]
  },
  {
   "cell_type": "code",
   "execution_count": 87,
   "metadata": {},
   "outputs": [
    {
     "data": {
      "text/html": [
       "<div>\n",
       "<style scoped>\n",
       "    .dataframe tbody tr th:only-of-type {\n",
       "        vertical-align: middle;\n",
       "    }\n",
       "\n",
       "    .dataframe tbody tr th {\n",
       "        vertical-align: top;\n",
       "    }\n",
       "\n",
       "    .dataframe thead th {\n",
       "        text-align: right;\n",
       "    }\n",
       "</style>\n",
       "<table border=\"1\" class=\"dataframe\">\n",
       "  <thead>\n",
       "    <tr style=\"text-align: right;\">\n",
       "      <th></th>\n",
       "      <th>index</th>\n",
       "      <th>created_at</th>\n",
       "      <th>full_text</th>\n",
       "    </tr>\n",
       "  </thead>\n",
       "  <tbody>\n",
       "    <tr>\n",
       "      <th>0</th>\n",
       "      <td>193</td>\n",
       "      <td>2021-10-11</td>\n",
       "      <td>RT @autox: Winning our coveted 'Performance Ca...</td>\n",
       "    </tr>\n",
       "    <tr>\n",
       "      <th>1</th>\n",
       "      <td>548</td>\n",
       "      <td>2021-06-27</td>\n",
       "      <td>RT @odmag: This is the mid-life update for the...</td>\n",
       "    </tr>\n",
       "    <tr>\n",
       "      <th>2</th>\n",
       "      <td>549</td>\n",
       "      <td>2021-06-27</td>\n",
       "      <td>RT @autox: Priced between 62.90 lakh &amp;amp; 71....</td>\n",
       "    </tr>\n",
       "    <tr>\n",
       "      <th>3</th>\n",
       "      <td>559</td>\n",
       "      <td>2021-06-24</td>\n",
       "      <td>RT @MotorBeam: 2021 BMW 5-Series Launched, Pri...</td>\n",
       "    </tr>\n",
       "    <tr>\n",
       "      <th>4</th>\n",
       "      <td>560</td>\n",
       "      <td>2021-06-24</td>\n",
       "      <td>RT @autocarindiamag: No sooner has the BMW 5 S...</td>\n",
       "    </tr>\n",
       "  </tbody>\n",
       "</table>\n",
       "</div>"
      ],
      "text/plain": [
       "   index  created_at                                          full_text\n",
       "0    193  2021-10-11  RT @autox: Winning our coveted 'Performance Ca...\n",
       "1    548  2021-06-27  RT @odmag: This is the mid-life update for the...\n",
       "2    549  2021-06-27  RT @autox: Priced between 62.90 lakh &amp; 71....\n",
       "3    559  2021-06-24  RT @MotorBeam: 2021 BMW 5-Series Launched, Pri...\n",
       "4    560  2021-06-24  RT @autocarindiamag: No sooner has the BMW 5 S..."
      ]
     },
     "execution_count": 87,
     "metadata": {},
     "output_type": "execute_result"
    }
   ],
   "source": [
    "df_clean.head()"
   ]
  },
  {
   "cell_type": "code",
   "execution_count": null,
   "metadata": {},
   "outputs": [],
   "source": []
  }
 ],
 "metadata": {
  "interpreter": {
   "hash": "29d931925a3468ac47683612d5fcb0ee6127f24b4269139a9a8900eb1398b858"
  },
  "kernelspec": {
   "display_name": "Python 3.9.5 64-bit ('Nlp-workouts-UIUQSEr-': pipenv)",
   "language": "python",
   "name": "python3"
  },
  "language_info": {
   "codemirror_mode": {
    "name": "ipython",
    "version": 3
   },
   "file_extension": ".py",
   "mimetype": "text/x-python",
   "name": "python",
   "nbconvert_exporter": "python",
   "pygments_lexer": "ipython3",
   "version": "3.9.5"
  },
  "orig_nbformat": 4
 },
 "nbformat": 4,
 "nbformat_minor": 2
}
