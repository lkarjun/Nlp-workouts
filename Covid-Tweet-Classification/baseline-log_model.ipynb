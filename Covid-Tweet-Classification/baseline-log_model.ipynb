{
 "cells": [
  {
   "cell_type": "markdown",
   "source": [
    "## LOGISTIC MODEL"
   ],
   "metadata": {}
  },
  {
   "cell_type": "code",
   "execution_count": 7,
   "source": [
    "from sklearn.feature_extraction.text import TfidfVectorizer\r\n",
    "from sklearn.naive_bayes import MultinomialNB\r\n",
    "from sklearn.metrics import accuracy_score, plot_confusion_matrix, plot_precision_recall_curve, plot_det_curve, plot_roc_curve\r\n",
    "from sklearn.linear_model import LogisticRegression\r\n",
    "\r\n",
    "import pandas as pd\r\n",
    "from pathlib import Path\r\n",
    "\r\n",
    "DATA_DIR = Path(\"../DATASETS/covid-tweet/\")"
   ],
   "outputs": [],
   "metadata": {}
  },
  {
   "cell_type": "code",
   "execution_count": 18,
   "source": [
    "train = pd.read_csv(DATA_DIR/\"train_procesed.csv\")\r\n",
    "test = pd.read_csv(DATA_DIR/\"test_processed.csv\")\r\n",
    "\r\n",
    "test.dropna(inplace=True)\r\n"
   ],
   "outputs": [],
   "metadata": {}
  },
  {
   "cell_type": "code",
   "execution_count": 21,
   "source": [
    "vec = TfidfVectorizer(ngram_range=(1,2),\r\n",
    "                      min_df=3, \r\n",
    "                      max_df=0.9, \r\n",
    "                      strip_accents='unicode', \r\n",
    "                      use_idf=1,\r\n",
    "                      smooth_idf=1, \r\n",
    "                      sublinear_tf=1)\r\n",
    "\r\n",
    "train_docn = vec.fit_transform(train.ModifiedTweets)\r\n",
    "test_doc = vec.transform(test.ModifiedTweets)"
   ],
   "outputs": [],
   "metadata": {}
  },
  {
   "cell_type": "code",
   "execution_count": 22,
   "source": [
    "print(vec.get_params())"
   ],
   "outputs": [
    {
     "output_type": "stream",
     "name": "stdout",
     "text": [
      "{'analyzer': 'word', 'binary': False, 'decode_error': 'strict', 'dtype': <class 'numpy.float64'>, 'encoding': 'utf-8', 'input': 'content', 'lowercase': True, 'max_df': 0.9, 'max_features': None, 'min_df': 3, 'ngram_range': (1, 2), 'norm': 'l2', 'preprocessor': None, 'smooth_idf': 1, 'stop_words': None, 'strip_accents': 'unicode', 'sublinear_tf': 1, 'token_pattern': '(?u)\\\\b\\\\w\\\\w+\\\\b', 'tokenizer': None, 'use_idf': 1, 'vocabulary': None}\n"
     ]
    }
   ],
   "metadata": {}
  },
  {
   "cell_type": "code",
   "execution_count": 23,
   "source": [
    "model = LogisticRegression(C=4, dual=True, solver='liblinear', random_state=42)"
   ],
   "outputs": [],
   "metadata": {}
  },
  {
   "cell_type": "code",
   "execution_count": null,
   "source": [
    "# train_y = pd.get_dummies(train.Sentiment, drop_first=True).values.reshape(len(train))\r\n",
    "# test_y = pd.get_dummies(test.Sentiment, drop_first=True).values.reshape(len(test))"
   ],
   "outputs": [],
   "metadata": {}
  },
  {
   "cell_type": "code",
   "execution_count": 24,
   "source": [
    "# predicts = model.predict(test_doc)\r\n",
    "# accuracy_score(predicts, test_y)"
   ],
   "outputs": [],
   "metadata": {}
  },
  {
   "cell_type": "code",
   "execution_count": 25,
   "source": [
    "# plot_confusion_matrix(model, test_doc, test_y)"
   ],
   "outputs": [],
   "metadata": {}
  },
  {
   "cell_type": "code",
   "execution_count": 26,
   "source": [
    "# plot_precision_recall_curve(model, test_doc, test_y)"
   ],
   "outputs": [],
   "metadata": {}
  },
  {
   "cell_type": "code",
   "execution_count": null,
   "source": [
    "# plot_roc_curve(model, test_doc, test_y"
   ],
   "outputs": [],
   "metadata": {}
  },
  {
   "cell_type": "code",
   "execution_count": null,
   "source": [],
   "outputs": [],
   "metadata": {}
  }
 ],
 "metadata": {
  "orig_nbformat": 4,
  "language_info": {
   "name": "python",
   "version": "3.9.5",
   "mimetype": "text/x-python",
   "codemirror_mode": {
    "name": "ipython",
    "version": 3
   },
   "pygments_lexer": "ipython3",
   "nbconvert_exporter": "python",
   "file_extension": ".py"
  },
  "kernelspec": {
   "name": "python3",
   "display_name": "Python 3.9.5 64-bit ('Nlp-workouts-UIUQSEr-': pipenv)"
  },
  "interpreter": {
   "hash": "29d931925a3468ac47683612d5fcb0ee6127f24b4269139a9a8900eb1398b858"
  }
 },
 "nbformat": 4,
 "nbformat_minor": 2
}