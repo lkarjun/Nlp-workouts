{
 "cells": [
  {
   "cell_type": "markdown",
   "source": [
    "## SVM Model"
   ],
   "metadata": {}
  },
  {
   "cell_type": "code",
   "execution_count": null,
   "source": [
    "from sklearn.feature_extraction.text import TfidfVectorizer\r\n",
    "from sklearn.metrics import accuracy_score, plot_confusion_matrix, \\\r\n",
    "        classification_report, roc_auc_score, roc_auc_score\r\n",
    "\r\n",
    "from sklearn.linear_model import LogisticRegression\r\n",
    "from sklearn.preprocessing import LabelEncoder\r\n",
    "from sklearn.model_selection import GridSearchCV\r\n",
    "\r\n",
    "import pandas as pd\r\n",
    "from pathlib import Path\r\n",
    "import seaborn as sns\r\n",
    "sns.set()\r\n",
    "\r\n",
    "DATA_DIR = Path(\"../DATASETS/covid-tweet/\")"
   ],
   "outputs": [],
   "metadata": {}
  },
  {
   "cell_type": "code",
   "execution_count": null,
   "source": [],
   "outputs": [],
   "metadata": {}
  }
 ],
 "metadata": {
  "orig_nbformat": 4,
  "language_info": {
   "name": "python",
   "version": "3.9.5"
  },
  "kernelspec": {
   "name": "python3",
   "display_name": "Python 3.9.5 64-bit ('Nlp-workouts-UIUQSEr-': pipenv)"
  },
  "interpreter": {
   "hash": "29d931925a3468ac47683612d5fcb0ee6127f24b4269139a9a8900eb1398b858"
  }
 },
 "nbformat": 4,
 "nbformat_minor": 2
}