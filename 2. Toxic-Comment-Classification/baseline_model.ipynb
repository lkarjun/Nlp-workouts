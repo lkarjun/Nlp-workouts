{
 "cells": [
  {
   "cell_type": "code",
   "execution_count": 1,
   "id": "3823f635",
   "metadata": {},
   "outputs": [],
   "source": [
    "from data import get_data, split"
   ]
  },
  {
   "cell_type": "markdown",
   "id": "7a333864",
   "metadata": {},
   "source": [
    "## Preprocessing"
   ]
  },
  {
   "cell_type": "code",
   "execution_count": 17,
   "id": "90825ea1",
   "metadata": {},
   "outputs": [
    {
     "data": {
      "text/html": [
       "<div>\n",
       "<style scoped>\n",
       "    .dataframe tbody tr th:only-of-type {\n",
       "        vertical-align: middle;\n",
       "    }\n",
       "\n",
       "    .dataframe tbody tr th {\n",
       "        vertical-align: top;\n",
       "    }\n",
       "\n",
       "    .dataframe thead th {\n",
       "        text-align: right;\n",
       "    }\n",
       "</style>\n",
       "<table border=\"1\" class=\"dataframe\">\n",
       "  <thead>\n",
       "    <tr style=\"text-align: right;\">\n",
       "      <th></th>\n",
       "      <th>comment_text</th>\n",
       "      <th>toxic</th>\n",
       "      <th>severe_toxic</th>\n",
       "      <th>obscene</th>\n",
       "      <th>threat</th>\n",
       "      <th>insult</th>\n",
       "      <th>identity_hate</th>\n",
       "      <th>Norm</th>\n",
       "    </tr>\n",
       "  </thead>\n",
       "  <tbody>\n",
       "    <tr>\n",
       "      <th>0</th>\n",
       "      <td>Explanation\\nWhy the edits made under my usern...</td>\n",
       "      <td>0</td>\n",
       "      <td>0</td>\n",
       "      <td>0</td>\n",
       "      <td>0</td>\n",
       "      <td>0</td>\n",
       "      <td>0</td>\n",
       "      <td>1</td>\n",
       "    </tr>\n",
       "    <tr>\n",
       "      <th>1</th>\n",
       "      <td>D'aww! He matches this background colour I'm s...</td>\n",
       "      <td>0</td>\n",
       "      <td>0</td>\n",
       "      <td>0</td>\n",
       "      <td>0</td>\n",
       "      <td>0</td>\n",
       "      <td>0</td>\n",
       "      <td>1</td>\n",
       "    </tr>\n",
       "    <tr>\n",
       "      <th>2</th>\n",
       "      <td>Hey man, I'm really not trying to edit war. It...</td>\n",
       "      <td>0</td>\n",
       "      <td>0</td>\n",
       "      <td>0</td>\n",
       "      <td>0</td>\n",
       "      <td>0</td>\n",
       "      <td>0</td>\n",
       "      <td>1</td>\n",
       "    </tr>\n",
       "    <tr>\n",
       "      <th>3</th>\n",
       "      <td>\"\\nMore\\nI can't make any real suggestions on ...</td>\n",
       "      <td>0</td>\n",
       "      <td>0</td>\n",
       "      <td>0</td>\n",
       "      <td>0</td>\n",
       "      <td>0</td>\n",
       "      <td>0</td>\n",
       "      <td>1</td>\n",
       "    </tr>\n",
       "  </tbody>\n",
       "</table>\n",
       "</div>"
      ],
      "text/plain": [
       "                                        comment_text  toxic  ...  identity_hate  Norm\n",
       "0  Explanation\\nWhy the edits made under my usern...      0  ...              0     1\n",
       "1  D'aww! He matches this background colour I'm s...      0  ...              0     1\n",
       "2  Hey man, I'm really not trying to edit war. It...      0  ...              0     1\n",
       "3  \"\\nMore\\nI can't make any real suggestions on ...      0  ...              0     1\n",
       "\n",
       "[4 rows x 8 columns]"
      ]
     },
     "execution_count": 17,
     "metadata": {},
     "output_type": "execute_result"
    }
   ],
   "source": [
    "df = get_data(True)\n",
    "uncol = [\"id\", \"Unnamed: 0\"]\n",
    "df.drop(uncol, axis = 1, inplace = True)\n",
    "df.head(4)"
   ]
  },
  {
   "cell_type": "code",
   "execution_count": 18,
   "id": "21492188",
   "metadata": {},
   "outputs": [
    {
     "data": {
      "text/plain": [
       "<AxesSubplot:>"
      ]
     },
     "execution_count": 18,
     "metadata": {},
     "output_type": "execute_result"
    },
    {
     "data": {
      "image/png": "[encoded data removed]",
      "text/plain": [
       "<Figure size 432x288 with 1 Axes>"
      ]
     },
     "metadata": {
      "needs_background": "light"
     },
     "output_type": "display_data"
    }
   ],
   "source": [
    "df.comment_text.str.len().hist()"
   ]
  },
  {
   "cell_type": "code",
   "execution_count": 19,
   "id": "fbe81e96",
   "metadata": {},
   "outputs": [
    {
     "data": {
      "text/plain": [
       "comment_text     0\n",
       "toxic            0\n",
       "severe_toxic     0\n",
       "obscene          0\n",
       "threat           0\n",
       "insult           0\n",
       "identity_hate    0\n",
       "Norm             0\n",
       "dtype: int64"
      ]
     },
     "execution_count": 19,
     "metadata": {},
     "output_type": "execute_result"
    }
   ],
   "source": [
    "df.isna().sum()"
   ]
  },
  {
   "cell_type": "markdown",
   "id": "dda0a3cc",
   "metadata": {},
   "source": [
    "### Lemmatization"
   ]
  },
  {
   "cell_type": "code",
   "execution_count": 22,
   "id": "086883c9",
   "metadata": {},
   "outputs": [],
   "source": [
    "import spacy\n",
    "from spacy.lang.en.stop_words import STOP_WORDS"
   ]
  },
  {
   "cell_type": "code",
   "execution_count": 23,
   "id": "d68f22d5",
   "metadata": {},
   "outputs": [],
   "source": [
    "nlp = spacy.load(\"en_core_web_sm\")"
   ]
  },
  {
   "cell_type": "code",
   "execution_count": 36,
   "id": "e28b62a9",
   "metadata": {},
   "outputs": [],
   "source": [
    "checker = lambda i: (spacy_.vocab[i.text].is_stop or \\\n",
    "                     i.like_email or i.is_punct or \\\n",
    "                     i.like_url or i.is_digit or \\\n",
    "                     i.like_num or i.is_space)"
   ]
  },
  {
   "cell_type": "code",
   "execution_count": 39,
   "id": "fdfbd539",
   "metadata": {},
   "outputs": [],
   "source": [
    "text = df.comment_text[2]"
   ]
  },
  {
   "cell_type": "code",
   "execution_count": 40,
   "id": "670e5fe7",
   "metadata": {},
   "outputs": [
    {
     "data": {
      "text/plain": [
       "[Hey,\n",
       " man,\n",
       " trying,\n",
       " edit,\n",
       " war,\n",
       " guy,\n",
       " constantly,\n",
       " removing,\n",
       " relevant,\n",
       " information,\n",
       " talking,\n",
       " edits,\n",
       " instead,\n",
       " talk,\n",
       " page,\n",
       " care,\n",
       " formatting,\n",
       " actual,\n",
       " info]"
      ]
     },
     "execution_count": 40,
     "metadata": {},
     "output_type": "execute_result"
    }
   ],
   "source": [
    "doc = nlp(text)\n",
    "[i for i in doc if not checker(i)]"
   ]
  },
  {
   "cell_type": "code",
   "execution_count": null,
   "id": "460d81cb",
   "metadata": {},
   "outputs": [],
   "source": []
  },
  {
   "cell_type": "code",
   "execution_count": 35,
   "id": "39d45529",
   "metadata": {},
   "outputs": [
    {
     "data": {
      "text/plain": [
       "[Explanation,\n",
       " edits,\n",
       " username,\n",
       " Hardcore,\n",
       " Metallica,\n",
       " Fan,\n",
       " reverted,\n",
       " vandalisms,\n",
       " closure,\n",
       " GAs,\n",
       " voted,\n",
       " New,\n",
       " York,\n",
       " Dolls,\n",
       " FAC,\n",
       " remove,\n",
       " template,\n",
       " talk,\n",
       " page,\n",
       " retired,\n",
       " now.89.205.38.27]"
      ]
     },
     "execution_count": 35,
     "metadata": {},
     "output_type": "execute_result"
    }
   ],
   "source": [
    "doc = nlp(text)\n",
    "\n",
    "\n",
    "\n",
    "[i for i in doc if not checker(i)]"
   ]
  },
  {
   "cell_type": "code",
   "execution_count": null,
   "id": "48c59b2e",
   "metadata": {},
   "outputs": [],
   "source": []
  }
 ],
 "metadata": {
  "kernelspec": {
   "display_name": "Python 3",
   "language": "python",
   "name": "python3"
  },
  "language_info": {
   "codemirror_mode": {
    "name": "ipython",
    "version": 3
   },
   "file_extension": ".py",
   "mimetype": "text/x-python",
   "name": "python",
   "nbconvert_exporter": "python",
   "pygments_lexer": "ipython3",
   "version": "3.9.5"
  }
 },
 "nbformat": 4,
 "nbformat_minor": 5
}
