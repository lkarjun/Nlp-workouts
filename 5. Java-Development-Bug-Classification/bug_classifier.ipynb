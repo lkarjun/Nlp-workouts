{
 "cells": [
  {
   "cell_type": "markdown",
   "id": "98b70c4b-eec2-404a-99d3-b915d829acdf",
   "metadata": {},
   "source": [
    "# Java Development Tool Bug Classification"
   ]
  },
  {
   "cell_type": "code",
   "execution_count": 121,
   "id": "ffe93311-5349-43ae-b21c-af04cb6fd0d0",
   "metadata": {},
   "outputs": [],
   "source": [
    "from pathlib import Path\n",
    "import pandas as pd\n",
    "import seaborn as sns\n",
    "import matplotlib.pyplot as plt\n",
    "import numpy as np\n",
    "from tqdm import tqdm\n",
    "\n",
    "tqdm.pandas()\n",
    "sns.set()\n",
    "pd.set_option('display.max_colwidth', 50)\n",
    "\n",
    "BASE_PATH = Path(\"../DATASETS/java-bug/\")"
   ]
  },
  {
   "cell_type": "code",
   "execution_count": 105,
   "id": "e3e6f465-8f6a-4096-a08c-79df71fd4dc9",
   "metadata": {},
   "outputs": [],
   "source": [
    "df = pd.read_csv(BASE_PATH/'eclipse_jdt.csv.gz')"
   ]
  },
  {
   "cell_type": "markdown",
   "id": "2a1ad2b9-a984-4690-bce4-21a9f548795a",
   "metadata": {},
   "source": [
    "### Analysing"
   ]
  },
  {
   "cell_type": "code",
   "execution_count": 106,
   "id": "5e9cc65f-180a-424b-8788-3e7858ad5a2b",
   "metadata": {},
   "outputs": [
    {
     "data": {
      "text/html": [
       "<div>\n",
       "<style scoped>\n",
       "    .dataframe tbody tr th:only-of-type {\n",
       "        vertical-align: middle;\n",
       "    }\n",
       "\n",
       "    .dataframe tbody tr th {\n",
       "        vertical-align: top;\n",
       "    }\n",
       "\n",
       "    .dataframe thead th {\n",
       "        text-align: right;\n",
       "    }\n",
       "</style>\n",
       "<table border=\"1\" class=\"dataframe\">\n",
       "  <thead>\n",
       "    <tr style=\"text-align: right;\">\n",
       "      <th></th>\n",
       "      <th>Issue_id</th>\n",
       "      <th>Priority</th>\n",
       "      <th>Component</th>\n",
       "      <th>Duplicated_issue</th>\n",
       "      <th>Title</th>\n",
       "      <th>Description</th>\n",
       "      <th>Status</th>\n",
       "      <th>Resolution</th>\n",
       "      <th>Version</th>\n",
       "      <th>Created_time</th>\n",
       "      <th>Resolved_time</th>\n",
       "    </tr>\n",
       "  </thead>\n",
       "  <tbody>\n",
       "    <tr>\n",
       "      <th>0</th>\n",
       "      <td>1518</td>\n",
       "      <td>P1</td>\n",
       "      <td>Debug</td>\n",
       "      <td>NaN</td>\n",
       "      <td>Icons needed for actions (1GI5UXW)</td>\n",
       "      <td>JGS (8/8/01 5:20:19 PM); \\tWe need enabled; di...</td>\n",
       "      <td>VERIFIED</td>\n",
       "      <td>FIXED</td>\n",
       "      <td>2.0</td>\n",
       "      <td>2001-10-10 22:14:00 -0400</td>\n",
       "      <td>2001-10-18 11:51:14 -0400</td>\n",
       "    </tr>\n",
       "    <tr>\n",
       "      <th>1</th>\n",
       "      <td>1519</td>\n",
       "      <td>P3</td>\n",
       "      <td>Debug</td>\n",
       "      <td>NaN</td>\n",
       "      <td>README: Hit count not reset (1GET20Y)</td>\n",
       "      <td>JGS (6/4/01 11:43:47 AM); \\tSet a breakpoint i...</td>\n",
       "      <td>RESOLVED</td>\n",
       "      <td>WORKSFORME</td>\n",
       "      <td>2.0</td>\n",
       "      <td>2001-10-10 22:14:00 -0400</td>\n",
       "      <td>2001-11-28 13:42:46 -0500</td>\n",
       "    </tr>\n",
       "  </tbody>\n",
       "</table>\n",
       "</div>"
      ],
      "text/plain": [
       "   Issue_id Priority Component  Duplicated_issue  \\\n",
       "0      1518       P1     Debug               NaN   \n",
       "1      1519       P3     Debug               NaN   \n",
       "\n",
       "                                   Title  \\\n",
       "0     Icons needed for actions (1GI5UXW)   \n",
       "1  README: Hit count not reset (1GET20Y)   \n",
       "\n",
       "                                         Description    Status  Resolution  \\\n",
       "0  JGS (8/8/01 5:20:19 PM); \\tWe need enabled; di...  VERIFIED       FIXED   \n",
       "1  JGS (6/4/01 11:43:47 AM); \\tSet a breakpoint i...  RESOLVED  WORKSFORME   \n",
       "\n",
       "  Version               Created_time              Resolved_time  \n",
       "0     2.0  2001-10-10 22:14:00 -0400  2001-10-18 11:51:14 -0400  \n",
       "1     2.0  2001-10-10 22:14:00 -0400  2001-11-28 13:42:46 -0500  "
      ]
     },
     "execution_count": 106,
     "metadata": {},
     "output_type": "execute_result"
    }
   ],
   "source": [
    "df.head(2)"
   ]
  },
  {
   "cell_type": "code",
   "execution_count": 107,
   "id": "8280fb4c-79a5-4d5c-bb18-201927589728",
   "metadata": {},
   "outputs": [
    {
     "data": {
      "text/plain": [
       "Issue_id                0\n",
       "Priority                0\n",
       "Component               0\n",
       "Duplicated_issue    37608\n",
       "Title                   0\n",
       "Description            43\n",
       "Status                  0\n",
       "Resolution              0\n",
       "Version                 0\n",
       "Created_time            0\n",
       "Resolved_time           0\n",
       "dtype: int64"
      ]
     },
     "execution_count": 107,
     "metadata": {},
     "output_type": "execute_result"
    }
   ],
   "source": [
    "df.isna().sum() "
   ]
  },
  {
   "cell_type": "code",
   "execution_count": 108,
   "id": "185a23a3-0d98-4098-bb9b-7012a0feb15a",
   "metadata": {},
   "outputs": [
    {
     "name": "stdout",
     "output_type": "stream",
     "text": [
      "Length of the dataset:  45296\n"
     ]
    }
   ],
   "source": [
    "print(\"Length of the dataset: \", len(df))"
   ]
  },
  {
   "cell_type": "code",
   "execution_count": 109,
   "id": "3808a4bc-93fb-472a-bd7b-216835f94b22",
   "metadata": {},
   "outputs": [
    {
     "name": "stdout",
     "output_type": "stream",
     "text": [
      "So, we've 7688 duplicate issues\n"
     ]
    }
   ],
   "source": [
    "print(f\"So, we've {len(df) - 37608} duplicate issues\")"
   ]
  },
  {
   "cell_type": "code",
   "execution_count": null,
   "id": "3ca8ccb9-2cbc-43bb-ae4a-7d2308d527e3",
   "metadata": {},
   "outputs": [],
   "source": []
  },
  {
   "cell_type": "code",
   "execution_count": 110,
   "id": "101b4b35-5513-419c-8e65-7f3222c9e142",
   "metadata": {},
   "outputs": [
    {
     "data": {
      "image/png": "[encoded data removed]",
      "text/plain": [
       "<Figure size 432x288 with 1 Axes>"
      ]
     },
     "metadata": {},
     "output_type": "display_data"
    }
   ],
   "source": [
    "ax = df['Component'].value_counts().plot.barh(title = 'Number of Components', color = 'green')\n",
    "ax.invert_yaxis()"
   ]
  },
  {
   "cell_type": "code",
   "execution_count": 111,
   "id": "581e1f3e-3a32-431f-8185-ece4002913be",
   "metadata": {},
   "outputs": [
    {
     "data": {
      "image/png": "[encoded data removed]",
      "text/plain": [
       "<Figure size 432x288 with 1 Axes>"
      ]
     },
     "metadata": {},
     "output_type": "display_data"
    }
   ],
   "source": [
    "# just check value count of duplicate issues\n",
    "\n",
    "duplicate = df[~df['Duplicated_issue'].isna()]['Component']\n",
    "duplicate.value_counts().plot.barh(title = 'Number of Components', color = 'green').invert_yaxis()"
   ]
  },
  {
   "cell_type": "code",
   "execution_count": 112,
   "id": "e165be2a-beaa-43b0-9b41-d1eb909c0a09",
   "metadata": {},
   "outputs": [
    {
     "data": {
      "text/plain": [
       "Issue_id                                                         1522\n",
       "Priority                                                           P2\n",
       "Component                                                       Debug\n",
       "Duplicated_issue                                               1663.0\n",
       "Title               Feature: use #toString to display variable val...\n",
       "Description         DW (9/27/00 11:12:31 AM); \\tCurrently; the typ...\n",
       "Status                                                       RESOLVED\n",
       "Resolution                                                  DUPLICATE\n",
       "Version                                                           2.0\n",
       "Created_time                                2001-10-10 22:14:00 -0400\n",
       "Resolved_time                               2001-10-17 10:17:47 -0400\n",
       "Name: 4, dtype: object"
      ]
     },
     "execution_count": 112,
     "metadata": {},
     "output_type": "execute_result"
    }
   ],
   "source": [
    "df.iloc[duplicate.index[0]].T"
   ]
  },
  {
   "cell_type": "code",
   "execution_count": 113,
   "id": "e4d03582-94fd-4087-ba74-be72ae5c9d32",
   "metadata": {},
   "outputs": [
    {
     "data": {
      "text/plain": [
       "Issue_id                                                         5357\n",
       "Priority                                                           P3\n",
       "Component                                                       Debug\n",
       "Duplicated_issue                                                  NaN\n",
       "Title                   Feature: Action to select line for evaluation\n",
       "Description         To simplify the execution of the recently ente...\n",
       "Status                                                       RESOLVED\n",
       "Resolution                                                    WONTFIX\n",
       "Version                                                           2.0\n",
       "Created_time                                2001-10-30 11:04:00 -0500\n",
       "Resolved_time                               2002-07-15 16:07:14 -0400\n",
       "Name: 1663, dtype: object"
      ]
     },
     "execution_count": 113,
     "metadata": {},
     "output_type": "execute_result"
    }
   ],
   "source": [
    "df.iloc[1663].T"
   ]
  },
  {
   "cell_type": "code",
   "execution_count": null,
   "id": "19334b62-578a-44ef-bace-4742a2ffb0d0",
   "metadata": {},
   "outputs": [],
   "source": []
  },
  {
   "cell_type": "markdown",
   "id": "363879ef-e1ac-4724-a6b3-a648852837cd",
   "metadata": {},
   "source": [
    "### Data Preparation"
   ]
  },
  {
   "cell_type": "code",
   "execution_count": 114,
   "id": "87052f27-1b3e-499e-aa00-85cb08ce857f",
   "metadata": {},
   "outputs": [],
   "source": [
    "import html\n",
    "import re\n",
    "\n",
    "def clean(text):\n",
    "    # convert html escapes like &amp; to characters.\n",
    "    text = html.unescape(text)\n",
    "    # tags like <tab>\n",
    "    text = re.sub(r'<[^<>]*>', ' ', text)\n",
    "    # markdown URLs like [Some text](https://....)\n",
    "    text = re.sub(r'\\[([^\\[\\]]*)\\]\\([^\\(\\)]*\\)', r'\\1', text)\n",
    "    # text or code in brackets like [0]\n",
    "    text = re.sub(r'\\[[^\\[\\]]*\\]', ' ', text)\n",
    "    # standalone sequences of specials, matches &# but not #cool\n",
    "    text = re.sub(r'(?:^|\\s)[&#<>{}\\[\\]+|\\\\:-]{1,}(?:\\s|$)', ' ', text)\n",
    "    # standalone sequences of hyphens like --- or ==\n",
    "    text = re.sub(r'(?:^|\\s)[\\-=\\+]{2,}(?:\\s|$)', ' ', text)\n",
    "    # sequences of white spaces\n",
    "    text = re.sub(r'\\s+', ' ', text)\n",
    "    return text.strip()"
   ]
  },
  {
   "cell_type": "code",
   "execution_count": 115,
   "id": "e9dc7788-5493-47bb-86b9-346bfc976fd6",
   "metadata": {},
   "outputs": [],
   "source": [
    "df = df[['Title', 'Description', 'Component']]\n",
    "df.dropna(inplace=True)\n",
    "df['text'] = df['Title'] + ' ' + df['Description']\n",
    "df = df.drop(columns=['Title','Description'])"
   ]
  },
  {
   "cell_type": "code",
   "execution_count": 116,
   "id": "2a379b72-5823-4f51-9aad-5bed47b1a44a",
   "metadata": {},
   "outputs": [
    {
     "data": {
      "text/plain": [
       "Index(['Component', 'text'], dtype='object')"
      ]
     },
     "execution_count": 116,
     "metadata": {},
     "output_type": "execute_result"
    }
   ],
   "source": [
    "df.columns"
   ]
  },
  {
   "cell_type": "code",
   "execution_count": 117,
   "id": "540674a1-a621-45c4-94e3-f8aec990672f",
   "metadata": {},
   "outputs": [
    {
     "name": "stderr",
     "output_type": "stream",
     "text": [
      "100%|██████████████████████████████████████████████████| 45253/45253 [00:13<00:00, 3360.05it/s]\n"
     ]
    }
   ],
   "source": [
    "df['text'] = df['text'].progress_apply(clean)"
   ]
  },
  {
   "cell_type": "code",
   "execution_count": 120,
   "id": "471458c2-1a50-4cc6-a893-7d62365720d9",
   "metadata": {},
   "outputs": [
    {
     "data": {
      "text/html": [
       "<div>\n",
       "<style scoped>\n",
       "    .dataframe tbody tr th:only-of-type {\n",
       "        vertical-align: middle;\n",
       "    }\n",
       "\n",
       "    .dataframe tbody tr th {\n",
       "        vertical-align: top;\n",
       "    }\n",
       "\n",
       "    .dataframe thead th {\n",
       "        text-align: right;\n",
       "    }\n",
       "</style>\n",
       "<table border=\"1\" class=\"dataframe\">\n",
       "  <thead>\n",
       "    <tr style=\"text-align: right;\">\n",
       "      <th></th>\n",
       "      <th>Component</th>\n",
       "      <th>text</th>\n",
       "    </tr>\n",
       "  </thead>\n",
       "  <tbody>\n",
       "    <tr>\n",
       "      <th>13614</th>\n",
       "      <td>Text</td>\n",
       "      <td>Out of memory using comment feature Trying to ...</td>\n",
       "    </tr>\n",
       "    <tr>\n",
       "      <th>3741</th>\n",
       "      <td>UI</td>\n",
       "      <td>Externalize Strings of compilation unit fails ...</td>\n",
       "    </tr>\n",
       "    <tr>\n",
       "      <th>23607</th>\n",
       "      <td>UI</td>\n",
       "      <td>Move Refactoring has inconsistent preview UI r...</td>\n",
       "    </tr>\n",
       "    <tr>\n",
       "      <th>19222</th>\n",
       "      <td>UI</td>\n",
       "      <td>bad idea to subclass Error for ordinary except...</td>\n",
       "    </tr>\n",
       "  </tbody>\n",
       "</table>\n",
       "</div>"
      ],
      "text/plain": [
       "      Component                                               text\n",
       "13614      Text  Out of memory using comment feature Trying to ...\n",
       "3741         UI  Externalize Strings of compilation unit fails ...\n",
       "23607        UI  Move Refactoring has inconsistent preview UI r...\n",
       "19222        UI  bad idea to subclass Error for ordinary except..."
      ]
     },
     "execution_count": 120,
     "metadata": {},
     "output_type": "execute_result"
    }
   ],
   "source": [
    "df = df[df['text'].str.len() > 50]\n",
    "df.sample(4)"
   ]
  },
  {
   "cell_type": "code",
   "execution_count": null,
   "id": "83294a6c-8c09-4fd4-b9d9-6d86645a6cc6",
   "metadata": {},
   "outputs": [],
   "source": []
  },
  {
   "cell_type": "markdown",
   "id": "f2214607-33e5-45e1-85ce-734cb921008e",
   "metadata": {},
   "source": [
    "### Train Test"
   ]
  },
  {
   "cell_type": "code",
   "execution_count": 132,
   "id": "7b5b8f9a-2b08-49df-b53f-ccc00c2a21ed",
   "metadata": {},
   "outputs": [],
   "source": [
    "from sklearn.model_selection import train_test_split"
   ]
  },
  {
   "cell_type": "code",
   "execution_count": 133,
   "id": "da60db5e-5d53-4c24-bd44-46c979fe72a6",
   "metadata": {},
   "outputs": [],
   "source": [
    "X_train, X_test, Y_train, Y_test = train_test_split(\n",
    "                                                df['text'],\n",
    "                                                df['Component'],\n",
    "                                                test_size=.2,\n",
    "                                                stratify=df['Component'],\n",
    "                                                random_state=42\n",
    "                                            )"
   ]
  },
  {
   "cell_type": "code",
   "execution_count": 135,
   "id": "c06296cd-d51c-41dc-9f5a-1d5c99697d9d",
   "metadata": {},
   "outputs": [
    {
     "name": "stdout",
     "output_type": "stream",
     "text": [
      "Size of Training Data:  36040\n",
      "Size of Testing Data:  9011\n"
     ]
    }
   ],
   "source": [
    "print(\"Size of Training Data: \", X_train.shape[0])\n",
    "print(\"Size of Testing Data: \", X_test.shape[0])"
   ]
  },
  {
   "cell_type": "code",
   "execution_count": null,
   "id": "66debb3c-0647-4e19-a589-2dde48f5afd3",
   "metadata": {},
   "outputs": [],
   "source": []
  }
 ],
 "metadata": {
  "kernelspec": {
   "display_name": "Python 3",
   "language": "python",
   "name": "python3"
  },
  "language_info": {
   "codemirror_mode": {
    "name": "ipython",
    "version": 3
   },
   "file_extension": ".py",
   "mimetype": "text/x-python",
   "name": "python",
   "nbconvert_exporter": "python",
   "pygments_lexer": "ipython3",
   "version": "3.9.5"
  }
 },
 "nbformat": 4,
 "nbformat_minor": 5
}
