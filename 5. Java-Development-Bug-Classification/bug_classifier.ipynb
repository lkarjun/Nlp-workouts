{
  "cells": [
    {
      "cell_type": "markdown",
      "id": "721b383c-6f22-49e1-a741-5ccea10a81c6",
      "metadata": {
        "id": "721b383c-6f22-49e1-a741-5ccea10a81c6"
      },
      "source": [
        "# Java Development Tool Bug Classification"
      ]
    },
    {
      "cell_type": "code",
      "execution_count": 2,
      "id": "8bc89078-463e-49ac-b579-5a1408ee00ba",
      "metadata": {
        "id": "8bc89078-463e-49ac-b579-5a1408ee00ba"
      },
      "outputs": [],
      "source": [
        "from pathlib import Path\n",
        "import pandas as pd\n",
        "import seaborn as sns\n",
        "import matplotlib.pyplot as plt\n",
        "import numpy as np\n",
        "from tqdm import tqdm\n",
        "\n",
        "tqdm.pandas()\n",
        "sns.set()\n",
        "pd.set_option('display.max_colwidth', 50)\n",
        "\n",
        "BASE_PATH = Path(\"../DATASETS/java-bug/\")"
      ]
    },
    {
      "cell_type": "code",
      "execution_count": 4,
      "id": "76427ea5-368a-4999-9693-13ded8a5b792",
      "metadata": {
        "id": "76427ea5-368a-4999-9693-13ded8a5b792"
      },
      "outputs": [],
      "source": [
        "df = pd.read_csv(BASE_PATH/'eclipse_jdt.csv.gz')"
      ]
    },
    {
      "cell_type": "markdown",
      "id": "2624068d-7cd9-4254-835b-927b4ebd817f",
      "metadata": {
        "id": "2624068d-7cd9-4254-835b-927b4ebd817f"
      },
      "source": [
        "### Analysing"
      ]
    },
    {
      "cell_type": "code",
      "execution_count": 5,
      "id": "46e39a7b-f43b-44c6-9e06-f48ac8c632b5",
      "metadata": {
        "id": "46e39a7b-f43b-44c6-9e06-f48ac8c632b5",
        "outputId": "16070794-bef2-43e7-e6e0-dca15006420b",
        "colab": {
          "base_uri": "https://localhost:8080/",
          "height": 0
        }
      },
      "outputs": [
        {
          "output_type": "execute_result",
          "data": {
            "text/html": [
              "\n",
              "  <div id=\"df-16d14c74-80ff-4000-9563-e87616b4a7a4\">\n",
              "    <div class=\"colab-df-container\">\n",
              "      <div>\n",
              "<style scoped>\n",
              "    .dataframe tbody tr th:only-of-type {\n",
              "        vertical-align: middle;\n",
              "    }\n",
              "\n",
              "    .dataframe tbody tr th {\n",
              "        vertical-align: top;\n",
              "    }\n",
              "\n",
              "    .dataframe thead th {\n",
              "        text-align: right;\n",
              "    }\n",
              "</style>\n",
              "<table border=\"1\" class=\"dataframe\">\n",
              "  <thead>\n",
              "    <tr style=\"text-align: right;\">\n",
              "      <th></th>\n",
              "      <th>Issue_id</th>\n",
              "      <th>Priority</th>\n",
              "      <th>Component</th>\n",
              "      <th>Duplicated_issue</th>\n",
              "      <th>Title</th>\n",
              "      <th>Description</th>\n",
              "      <th>Status</th>\n",
              "      <th>Resolution</th>\n",
              "      <th>Version</th>\n",
              "      <th>Created_time</th>\n",
              "      <th>Resolved_time</th>\n",
              "    </tr>\n",
              "  </thead>\n",
              "  <tbody>\n",
              "    <tr>\n",
              "      <th>0</th>\n",
              "      <td>1518</td>\n",
              "      <td>P1</td>\n",
              "      <td>Debug</td>\n",
              "      <td>NaN</td>\n",
              "      <td>Icons needed for actions (1GI5UXW)</td>\n",
              "      <td>JGS (8/8/01 5:20:19 PM); \\tWe need enabled; di...</td>\n",
              "      <td>VERIFIED</td>\n",
              "      <td>FIXED</td>\n",
              "      <td>2.0</td>\n",
              "      <td>2001-10-10 22:14:00 -0400</td>\n",
              "      <td>2001-10-18 11:51:14 -0400</td>\n",
              "    </tr>\n",
              "    <tr>\n",
              "      <th>1</th>\n",
              "      <td>1519</td>\n",
              "      <td>P3</td>\n",
              "      <td>Debug</td>\n",
              "      <td>NaN</td>\n",
              "      <td>README: Hit count not reset (1GET20Y)</td>\n",
              "      <td>JGS (6/4/01 11:43:47 AM); \\tSet a breakpoint i...</td>\n",
              "      <td>RESOLVED</td>\n",
              "      <td>WORKSFORME</td>\n",
              "      <td>2.0</td>\n",
              "      <td>2001-10-10 22:14:00 -0400</td>\n",
              "      <td>2001-11-28 13:42:46 -0500</td>\n",
              "    </tr>\n",
              "  </tbody>\n",
              "</table>\n",
              "</div>\n",
              "      <button class=\"colab-df-convert\" onclick=\"convertToInteractive('df-16d14c74-80ff-4000-9563-e87616b4a7a4')\"\n",
              "              title=\"Convert this dataframe to an interactive table.\"\n",
              "              style=\"display:none;\">\n",
              "        \n",
              "  <svg xmlns=\"http://www.w3.org/2000/svg\" height=\"24px\"viewBox=\"0 0 24 24\"\n",
              "       width=\"24px\">\n",
              "    <path d=\"M0 0h24v24H0V0z\" fill=\"none\"/>\n",
              "    <path d=\"M18.56 5.44l.94 2.06.94-2.06 2.06-.94-2.06-.94-.94-2.06-.94 2.06-2.06.94zm-11 1L8.5 8.5l.94-2.06 2.06-.94-2.06-.94L8.5 2.5l-.94 2.06-2.06.94zm10 10l.94 2.06.94-2.06 2.06-.94-2.06-.94-.94-2.06-.94 2.06-2.06.94z\"/><path d=\"M17.41 7.96l-1.37-1.37c-.4-.4-.92-.59-1.43-.59-.52 0-1.04.2-1.43.59L10.3 9.45l-7.72 7.72c-.78.78-.78 2.05 0 2.83L4 21.41c.39.39.9.59 1.41.59.51 0 1.02-.2 1.41-.59l7.78-7.78 2.81-2.81c.8-.78.8-2.07 0-2.86zM5.41 20L4 18.59l7.72-7.72 1.47 1.35L5.41 20z\"/>\n",
              "  </svg>\n",
              "      </button>\n",
              "      \n",
              "  <style>\n",
              "    .colab-df-container {\n",
              "      display:flex;\n",
              "      flex-wrap:wrap;\n",
              "      gap: 12px;\n",
              "    }\n",
              "\n",
              "    .colab-df-convert {\n",
              "      background-color: #E8F0FE;\n",
              "      border: none;\n",
              "      border-radius: 50%;\n",
              "      cursor: pointer;\n",
              "      display: none;\n",
              "      fill: #1967D2;\n",
              "      height: 32px;\n",
              "      padding: 0 0 0 0;\n",
              "      width: 32px;\n",
              "    }\n",
              "\n",
              "    .colab-df-convert:hover {\n",
              "      background-color: #E2EBFA;\n",
              "      box-shadow: 0px 1px 2px rgba(60, 64, 67, 0.3), 0px 1px 3px 1px rgba(60, 64, 67, 0.15);\n",
              "      fill: #174EA6;\n",
              "    }\n",
              "\n",
              "    [theme=dark] .colab-df-convert {\n",
              "      background-color: #3B4455;\n",
              "      fill: #D2E3FC;\n",
              "    }\n",
              "\n",
              "    [theme=dark] .colab-df-convert:hover {\n",
              "      background-color: #434B5C;\n",
              "      box-shadow: 0px 1px 3px 1px rgba(0, 0, 0, 0.15);\n",
              "      filter: drop-shadow(0px 1px 2px rgba(0, 0, 0, 0.3));\n",
              "      fill: #FFFFFF;\n",
              "    }\n",
              "  </style>\n",
              "\n",
              "      <script>\n",
              "        const buttonEl =\n",
              "          document.querySelector('#df-16d14c74-80ff-4000-9563-e87616b4a7a4 button.colab-df-convert');\n",
              "        buttonEl.style.display =\n",
              "          google.colab.kernel.accessAllowed ? 'block' : 'none';\n",
              "\n",
              "        async function convertToInteractive(key) {\n",
              "          const element = document.querySelector('#df-16d14c74-80ff-4000-9563-e87616b4a7a4');\n",
              "          const dataTable =\n",
              "            await google.colab.kernel.invokeFunction('convertToInteractive',\n",
              "                                                     [key], {});\n",
              "          if (!dataTable) return;\n",
              "\n",
              "          const docLinkHtml = 'Like what you see? Visit the ' +\n",
              "            '<a target=\"_blank\" href=https://colab.research.google.com/notebooks/data_table.ipynb>data table notebook</a>'\n",
              "            + ' to learn more about interactive tables.';\n",
              "          element.innerHTML = '';\n",
              "          dataTable['output_type'] = 'display_data';\n",
              "          await google.colab.output.renderOutput(dataTable, element);\n",
              "          const docLink = document.createElement('div');\n",
              "          docLink.innerHTML = docLinkHtml;\n",
              "          element.appendChild(docLink);\n",
              "        }\n",
              "      </script>\n",
              "    </div>\n",
              "  </div>\n",
              "  "
            ],
            "text/plain": [
              "   Issue_id Priority  ...               Created_time              Resolved_time\n",
              "0      1518       P1  ...  2001-10-10 22:14:00 -0400  2001-10-18 11:51:14 -0400\n",
              "1      1519       P3  ...  2001-10-10 22:14:00 -0400  2001-11-28 13:42:46 -0500\n",
              "\n",
              "[2 rows x 11 columns]"
            ]
          },
          "metadata": {},
          "execution_count": 5
        }
      ],
      "source": [
        "df.head(2)"
      ]
    },
    {
      "cell_type": "code",
      "execution_count": 6,
      "id": "e43cf181-fb19-4b80-ae97-2d5f9667d1b4",
      "metadata": {
        "id": "e43cf181-fb19-4b80-ae97-2d5f9667d1b4",
        "outputId": "d365816c-566f-4589-e714-15ae82bb041f",
        "colab": {
          "base_uri": "https://localhost:8080/"
        }
      },
      "outputs": [
        {
          "output_type": "execute_result",
          "data": {
            "text/plain": [
              "Issue_id                0\n",
              "Priority                0\n",
              "Component               0\n",
              "Duplicated_issue    37608\n",
              "Title                   0\n",
              "Description            43\n",
              "Status                  0\n",
              "Resolution              0\n",
              "Version                 0\n",
              "Created_time            0\n",
              "Resolved_time           0\n",
              "dtype: int64"
            ]
          },
          "metadata": {},
          "execution_count": 6
        }
      ],
      "source": [
        "df.isna().sum() "
      ]
    },
    {
      "cell_type": "code",
      "execution_count": 7,
      "id": "b50f4852-d20a-478b-8e90-96707bc3b5e4",
      "metadata": {
        "id": "b50f4852-d20a-478b-8e90-96707bc3b5e4",
        "outputId": "e1eda42d-3268-4aee-9877-8af581b87548",
        "colab": {
          "base_uri": "https://localhost:8080/"
        }
      },
      "outputs": [
        {
          "output_type": "stream",
          "name": "stdout",
          "text": [
            "Length of the dataset:  45296\n"
          ]
        }
      ],
      "source": [
        "print(\"Length of the dataset: \", len(df))"
      ]
    },
    {
      "cell_type": "code",
      "execution_count": 8,
      "id": "d0b52da5-9540-45ae-97f9-69f9ea19d984",
      "metadata": {
        "id": "d0b52da5-9540-45ae-97f9-69f9ea19d984",
        "outputId": "f8c9d677-bafa-49cf-f681-ba82aaac896f",
        "colab": {
          "base_uri": "https://localhost:8080/"
        }
      },
      "outputs": [
        {
          "output_type": "stream",
          "name": "stdout",
          "text": [
            "So, we've 7688 duplicate issues\n"
          ]
        }
      ],
      "source": [
        "print(f\"So, we've {len(df) - 37608} duplicate issues\")"
      ]
    },
    {
      "cell_type": "code",
      "execution_count": 8,
      "id": "8f05f76e-539d-42c1-bab6-54aac4f30292",
      "metadata": {
        "id": "8f05f76e-539d-42c1-bab6-54aac4f30292"
      },
      "outputs": [],
      "source": [
        ""
      ]
    },
    {
      "cell_type": "code",
      "execution_count": 9,
      "id": "c8e66e2f-d5ba-4a5f-b455-1fa49327b426",
      "metadata": {
        "id": "c8e66e2f-d5ba-4a5f-b455-1fa49327b426",
        "outputId": "24d2a5a8-094f-48ef-9c9a-1f1ccc7d4b6e",
        "colab": {
          "base_uri": "https://localhost:8080/",
          "height": 0
        }
      },
      "outputs": [
        {
          "output_type": "display_data",
          "data": {
            "image/png": "[encoded data removed]",
            "text/plain": [
              "<Figure size 432x288 with 1 Axes>"
            ]
          },
          "metadata": {}
        }
      ],
      "source": [
        "ax = df['Component'].value_counts().plot.barh(title = 'Number of Components', color = 'green')\n",
        "ax.invert_yaxis()"
      ]
    },
    {
      "cell_type": "code",
      "execution_count": 10,
      "id": "a382ebea-2067-41f0-9860-fa9b5f0167c9",
      "metadata": {
        "id": "a382ebea-2067-41f0-9860-fa9b5f0167c9",
        "outputId": "1e63f1e6-2d4a-418e-c04a-55dbe787033e",
        "colab": {
          "base_uri": "https://localhost:8080/",
          "height": 0
        }
      },
      "outputs": [
        {
          "output_type": "display_data",
          "data": {
            "image/png": "[encoded data removed]",
            "text/plain": [
              "<Figure size 432x288 with 1 Axes>"
            ]
          },
          "metadata": {}
        }
      ],
      "source": [
        "# just check value count of duplicate issues\n",
        "\n",
        "duplicate = df[~df['Duplicated_issue'].isna()]['Component']\n",
        "duplicate.value_counts().plot.barh(title = 'Number of Components', color = 'green').invert_yaxis()"
      ]
    },
    {
      "cell_type": "code",
      "execution_count": 11,
      "id": "c3100062-1a5b-4626-ad36-a74e09d4d046",
      "metadata": {
        "id": "c3100062-1a5b-4626-ad36-a74e09d4d046",
        "outputId": "507b3427-7a7f-455c-ce82-5d21a3e00ea5",
        "colab": {
          "base_uri": "https://localhost:8080/"
        }
      },
      "outputs": [
        {
          "output_type": "execute_result",
          "data": {
            "text/plain": [
              "Issue_id                                                         1522\n",
              "Priority                                                           P2\n",
              "Component                                                       Debug\n",
              "Duplicated_issue                                                 1663\n",
              "Title               Feature: use #toString to display variable val...\n",
              "Description         DW (9/27/00 11:12:31 AM); \\tCurrently; the typ...\n",
              "Status                                                       RESOLVED\n",
              "Resolution                                                  DUPLICATE\n",
              "Version                                                           2.0\n",
              "Created_time                                2001-10-10 22:14:00 -0400\n",
              "Resolved_time                               2001-10-17 10:17:47 -0400\n",
              "Name: 4, dtype: object"
            ]
          },
          "metadata": {},
          "execution_count": 11
        }
      ],
      "source": [
        "df.iloc[duplicate.index[0]].T"
      ]
    },
    {
      "cell_type": "code",
      "execution_count": 12,
      "id": "56aa9e9c-2840-4241-a9e8-367cf2f78051",
      "metadata": {
        "id": "56aa9e9c-2840-4241-a9e8-367cf2f78051",
        "outputId": "ba3e3aed-24f3-45b2-dc9d-8964d77f941f",
        "colab": {
          "base_uri": "https://localhost:8080/"
        }
      },
      "outputs": [
        {
          "output_type": "execute_result",
          "data": {
            "text/plain": [
              "Issue_id                                                         5357\n",
              "Priority                                                           P3\n",
              "Component                                                       Debug\n",
              "Duplicated_issue                                                  NaN\n",
              "Title                   Feature: Action to select line for evaluation\n",
              "Description         To simplify the execution of the recently ente...\n",
              "Status                                                       RESOLVED\n",
              "Resolution                                                    WONTFIX\n",
              "Version                                                           2.0\n",
              "Created_time                                2001-10-30 11:04:00 -0500\n",
              "Resolved_time                               2002-07-15 16:07:14 -0400\n",
              "Name: 1663, dtype: object"
            ]
          },
          "metadata": {},
          "execution_count": 12
        }
      ],
      "source": [
        "df.iloc[1663].T"
      ]
    },
    {
      "cell_type": "code",
      "execution_count": 12,
      "id": "1b323d12-8e4c-4e90-8170-5f5602531870",
      "metadata": {
        "id": "1b323d12-8e4c-4e90-8170-5f5602531870"
      },
      "outputs": [],
      "source": [
        ""
      ]
    },
    {
      "cell_type": "code",
      "execution_count": 12,
      "id": "85d36709-4ecd-48c1-adef-9e210a751745",
      "metadata": {
        "id": "85d36709-4ecd-48c1-adef-9e210a751745"
      },
      "outputs": [],
      "source": [
        ""
      ]
    },
    {
      "cell_type": "markdown",
      "id": "7df52dbf-4001-4c70-a2b7-912f3d4e9407",
      "metadata": {
        "id": "7df52dbf-4001-4c70-a2b7-912f3d4e9407"
      },
      "source": [
        "### Data Preparation"
      ]
    },
    {
      "cell_type": "code",
      "execution_count": 13,
      "id": "a5f3f9e1-b75a-4e6b-8356-f0c041b9151f",
      "metadata": {
        "id": "a5f3f9e1-b75a-4e6b-8356-f0c041b9151f"
      },
      "outputs": [],
      "source": [
        "import html\n",
        "import re\n",
        "\n",
        "def clean(text):\n",
        "    # convert html escapes like &amp; to characters.\n",
        "    text = html.unescape(text)\n",
        "    # tags like <tab>\n",
        "    text = re.sub(r'<[^<>]*>', ' ', text)\n",
        "    # markdown URLs like [Some text](https://....)\n",
        "    text = re.sub(r'\\[([^\\[\\]]*)\\]\\([^\\(\\)]*\\)', r'\\1', text)\n",
        "    # text or code in brackets like [0]\n",
        "    text = re.sub(r'\\[[^\\[\\]]*\\]', ' ', text)\n",
        "    # standalone sequences of specials, matches &# but not #cool\n",
        "    text = re.sub(r'(?:^|\\s)[&#<>{}\\[\\]+|\\\\:-]{1,}(?:\\s|$)', ' ', text)\n",
        "    # standalone sequences of hyphens like --- or ==\n",
        "    text = re.sub(r'(?:^|\\s)[\\-=\\+]{2,}(?:\\s|$)', ' ', text)\n",
        "    # sequences of white spaces\n",
        "    text = re.sub(r'\\s+', ' ', text)\n",
        "    return text.strip()"
      ]
    },
    {
      "cell_type": "code",
      "execution_count": 14,
      "id": "89acbca0-a8fb-4280-b52d-d755e36642fb",
      "metadata": {
        "id": "89acbca0-a8fb-4280-b52d-d755e36642fb"
      },
      "outputs": [],
      "source": [
        "df = df[['Title', 'Description', 'Component']]\n",
        "df.dropna(inplace=True)\n",
        "df['text'] = df['Title'] + ' ' + df['Description']\n",
        "df = df.drop(columns=['Title','Description'])"
      ]
    },
    {
      "cell_type": "code",
      "execution_count": 15,
      "id": "65103dc3-8bcc-4022-80ab-2e7af0cef625",
      "metadata": {
        "id": "65103dc3-8bcc-4022-80ab-2e7af0cef625",
        "outputId": "60eeff3e-2824-4271-c9e2-44b8bc1539e8",
        "colab": {
          "base_uri": "https://localhost:8080/"
        }
      },
      "outputs": [
        {
          "output_type": "execute_result",
          "data": {
            "text/plain": [
              "Index(['Component', 'text'], dtype='object')"
            ]
          },
          "metadata": {},
          "execution_count": 15
        }
      ],
      "source": [
        "df.columns"
      ]
    },
    {
      "cell_type": "code",
      "execution_count": 16,
      "id": "74e4675b-22c9-4064-acf6-939530c6f36a",
      "metadata": {
        "id": "74e4675b-22c9-4064-acf6-939530c6f36a",
        "outputId": "e4308069-a573-4e39-cc1c-c4090ffaef6f",
        "colab": {
          "base_uri": "https://localhost:8080/"
        }
      },
      "outputs": [
        {
          "output_type": "stream",
          "name": "stderr",
          "text": [
            "100%|██████████| 45253/45253 [00:06<00:00, 6832.66it/s]\n"
          ]
        }
      ],
      "source": [
        "df['text'] = df['text'].progress_apply(clean)"
      ]
    },
    {
      "cell_type": "code",
      "execution_count": 17,
      "id": "f083aa60-d2bc-4d5a-8c95-01963bc44523",
      "metadata": {
        "id": "f083aa60-d2bc-4d5a-8c95-01963bc44523",
        "outputId": "1b920480-45eb-45f7-9409-d7eaf0e21b61",
        "colab": {
          "base_uri": "https://localhost:8080/",
          "height": 0
        }
      },
      "outputs": [
        {
          "output_type": "execute_result",
          "data": {
            "text/html": [
              "\n",
              "  <div id=\"df-cb06be6a-1a32-4da1-92b9-0939722dacaf\">\n",
              "    <div class=\"colab-df-container\">\n",
              "      <div>\n",
              "<style scoped>\n",
              "    .dataframe tbody tr th:only-of-type {\n",
              "        vertical-align: middle;\n",
              "    }\n",
              "\n",
              "    .dataframe tbody tr th {\n",
              "        vertical-align: top;\n",
              "    }\n",
              "\n",
              "    .dataframe thead th {\n",
              "        text-align: right;\n",
              "    }\n",
              "</style>\n",
              "<table border=\"1\" class=\"dataframe\">\n",
              "  <thead>\n",
              "    <tr style=\"text-align: right;\">\n",
              "      <th></th>\n",
              "      <th>Component</th>\n",
              "      <th>text</th>\n",
              "    </tr>\n",
              "  </thead>\n",
              "  <tbody>\n",
              "    <tr>\n",
              "      <th>3168</th>\n",
              "      <td>Debug</td>\n",
              "      <td>TimeoutException during terminate When we get ...</td>\n",
              "    </tr>\n",
              "    <tr>\n",
              "      <th>7295</th>\n",
              "      <td>UI</td>\n",
              "      <td>show in packages view on methods works only if...</td>\n",
              "    </tr>\n",
              "    <tr>\n",
              "      <th>14646</th>\n",
              "      <td>UI</td>\n",
              "      <td>Externalize Strings cell editors editing broke...</td>\n",
              "    </tr>\n",
              "    <tr>\n",
              "      <th>12989</th>\n",
              "      <td>Debug</td>\n",
              "      <td>Present logical view of Java objects in debugg...</td>\n",
              "    </tr>\n",
              "  </tbody>\n",
              "</table>\n",
              "</div>\n",
              "      <button class=\"colab-df-convert\" onclick=\"convertToInteractive('df-cb06be6a-1a32-4da1-92b9-0939722dacaf')\"\n",
              "              title=\"Convert this dataframe to an interactive table.\"\n",
              "              style=\"display:none;\">\n",
              "        \n",
              "  <svg xmlns=\"http://www.w3.org/2000/svg\" height=\"24px\"viewBox=\"0 0 24 24\"\n",
              "       width=\"24px\">\n",
              "    <path d=\"M0 0h24v24H0V0z\" fill=\"none\"/>\n",
              "    <path d=\"M18.56 5.44l.94 2.06.94-2.06 2.06-.94-2.06-.94-.94-2.06-.94 2.06-2.06.94zm-11 1L8.5 8.5l.94-2.06 2.06-.94-2.06-.94L8.5 2.5l-.94 2.06-2.06.94zm10 10l.94 2.06.94-2.06 2.06-.94-2.06-.94-.94-2.06-.94 2.06-2.06.94z\"/><path d=\"M17.41 7.96l-1.37-1.37c-.4-.4-.92-.59-1.43-.59-.52 0-1.04.2-1.43.59L10.3 9.45l-7.72 7.72c-.78.78-.78 2.05 0 2.83L4 21.41c.39.39.9.59 1.41.59.51 0 1.02-.2 1.41-.59l7.78-7.78 2.81-2.81c.8-.78.8-2.07 0-2.86zM5.41 20L4 18.59l7.72-7.72 1.47 1.35L5.41 20z\"/>\n",
              "  </svg>\n",
              "      </button>\n",
              "      \n",
              "  <style>\n",
              "    .colab-df-container {\n",
              "      display:flex;\n",
              "      flex-wrap:wrap;\n",
              "      gap: 12px;\n",
              "    }\n",
              "\n",
              "    .colab-df-convert {\n",
              "      background-color: #E8F0FE;\n",
              "      border: none;\n",
              "      border-radius: 50%;\n",
              "      cursor: pointer;\n",
              "      display: none;\n",
              "      fill: #1967D2;\n",
              "      height: 32px;\n",
              "      padding: 0 0 0 0;\n",
              "      width: 32px;\n",
              "    }\n",
              "\n",
              "    .colab-df-convert:hover {\n",
              "      background-color: #E2EBFA;\n",
              "      box-shadow: 0px 1px 2px rgba(60, 64, 67, 0.3), 0px 1px 3px 1px rgba(60, 64, 67, 0.15);\n",
              "      fill: #174EA6;\n",
              "    }\n",
              "\n",
              "    [theme=dark] .colab-df-convert {\n",
              "      background-color: #3B4455;\n",
              "      fill: #D2E3FC;\n",
              "    }\n",
              "\n",
              "    [theme=dark] .colab-df-convert:hover {\n",
              "      background-color: #434B5C;\n",
              "      box-shadow: 0px 1px 3px 1px rgba(0, 0, 0, 0.15);\n",
              "      filter: drop-shadow(0px 1px 2px rgba(0, 0, 0, 0.3));\n",
              "      fill: #FFFFFF;\n",
              "    }\n",
              "  </style>\n",
              "\n",
              "      <script>\n",
              "        const buttonEl =\n",
              "          document.querySelector('#df-cb06be6a-1a32-4da1-92b9-0939722dacaf button.colab-df-convert');\n",
              "        buttonEl.style.display =\n",
              "          google.colab.kernel.accessAllowed ? 'block' : 'none';\n",
              "\n",
              "        async function convertToInteractive(key) {\n",
              "          const element = document.querySelector('#df-cb06be6a-1a32-4da1-92b9-0939722dacaf');\n",
              "          const dataTable =\n",
              "            await google.colab.kernel.invokeFunction('convertToInteractive',\n",
              "                                                     [key], {});\n",
              "          if (!dataTable) return;\n",
              "\n",
              "          const docLinkHtml = 'Like what you see? Visit the ' +\n",
              "            '<a target=\"_blank\" href=https://colab.research.google.com/notebooks/data_table.ipynb>data table notebook</a>'\n",
              "            + ' to learn more about interactive tables.';\n",
              "          element.innerHTML = '';\n",
              "          dataTable['output_type'] = 'display_data';\n",
              "          await google.colab.output.renderOutput(dataTable, element);\n",
              "          const docLink = document.createElement('div');\n",
              "          docLink.innerHTML = docLinkHtml;\n",
              "          element.appendChild(docLink);\n",
              "        }\n",
              "      </script>\n",
              "    </div>\n",
              "  </div>\n",
              "  "
            ],
            "text/plain": [
              "      Component                                               text\n",
              "3168      Debug  TimeoutException during terminate When we get ...\n",
              "7295         UI  show in packages view on methods works only if...\n",
              "14646        UI  Externalize Strings cell editors editing broke...\n",
              "12989     Debug  Present logical view of Java objects in debugg..."
            ]
          },
          "metadata": {},
          "execution_count": 17
        }
      ],
      "source": [
        "df = df[df['text'].str.len() > 50]\n",
        "df.sample(4)"
      ]
    },
    {
      "cell_type": "code",
      "execution_count": 17,
      "id": "b8d9499f-f85b-44c3-a0e0-f81bd8b510ee",
      "metadata": {
        "id": "b8d9499f-f85b-44c3-a0e0-f81bd8b510ee"
      },
      "outputs": [],
      "source": [
        ""
      ]
    },
    {
      "cell_type": "markdown",
      "id": "03550aa8-544e-4361-9c5a-41b5f02e6718",
      "metadata": {
        "id": "03550aa8-544e-4361-9c5a-41b5f02e6718"
      },
      "source": [
        "### Train Test Split"
      ]
    },
    {
      "cell_type": "code",
      "execution_count": 18,
      "id": "8289e507-2d15-4d80-a7c3-3e8bd4c29bc9",
      "metadata": {
        "id": "8289e507-2d15-4d80-a7c3-3e8bd4c29bc9"
      },
      "outputs": [],
      "source": [
        "from sklearn.model_selection import train_test_split"
      ]
    },
    {
      "cell_type": "code",
      "execution_count": 19,
      "id": "3cd63aa0-249f-4128-a07c-3459a808836a",
      "metadata": {
        "id": "3cd63aa0-249f-4128-a07c-3459a808836a"
      },
      "outputs": [],
      "source": [
        "df = df.groupby('Component', as_index=False).apply(\n",
        "                                    pd.DataFrame.sample, \n",
        "                                    frac = .2, \n",
        "                                    random_state = 21)"
      ]
    },
    {
      "cell_type": "code",
      "execution_count": 20,
      "id": "28d5d90c-764d-40dc-a7d1-42bfc21d91dc",
      "metadata": {
        "id": "28d5d90c-764d-40dc-a7d1-42bfc21d91dc"
      },
      "outputs": [],
      "source": [
        "X_train, X_test, Y_train, Y_test = train_test_split(\n",
        "                                                df['text'],\n",
        "                                                df['Component'],\n",
        "                                                test_size=.2,\n",
        "                                                stratify=df['Component'],\n",
        "                                                random_state=42\n",
        "                                            )"
      ]
    },
    {
      "cell_type": "code",
      "execution_count": 21,
      "id": "1f6072e5-9f5b-46be-a2ee-c5446ac2e8c8",
      "metadata": {
        "id": "1f6072e5-9f5b-46be-a2ee-c5446ac2e8c8",
        "outputId": "1684f922-5544-446c-82da-4c91dea1a8bf",
        "colab": {
          "base_uri": "https://localhost:8080/"
        }
      },
      "outputs": [
        {
          "output_type": "stream",
          "name": "stdout",
          "text": [
            "Size of Training Data:  7208\n",
            "Size of Testing Data:  1803\n"
          ]
        }
      ],
      "source": [
        "print(\"Size of Training Data: \", X_train.shape[0])\n",
        "print(\"Size of Testing Data: \", X_test.shape[0])"
      ]
    },
    {
      "cell_type": "code",
      "execution_count": 21,
      "id": "a94f81ef-3f45-4d79-9a20-dd728d301557",
      "metadata": {
        "id": "a94f81ef-3f45-4d79-9a20-dd728d301557"
      },
      "outputs": [],
      "source": [
        ""
      ]
    },
    {
      "cell_type": "markdown",
      "id": "4759fa85-1b59-4f3e-984d-27304f10c9be",
      "metadata": {
        "id": "4759fa85-1b59-4f3e-984d-27304f10c9be"
      },
      "source": [
        "### Training Model"
      ]
    },
    {
      "cell_type": "code",
      "execution_count": 22,
      "id": "bf460c64-a276-45d7-b19f-d47e17a27d4c",
      "metadata": {
        "id": "bf460c64-a276-45d7-b19f-d47e17a27d4c"
      },
      "outputs": [],
      "source": [
        "from sklearn.feature_extraction.text import TfidfVectorizer\n",
        "from sklearn.svm import LinearSVC, SVC\n",
        "from sklearn.dummy import DummyClassifier\n",
        "from sklearn.metrics import classification_report, accuracy_score, ConfusionMatrixDisplay\n",
        "\n",
        "from sklearn.pipeline import Pipeline\n",
        "from sklearn.model_selection import GridSearchCV"
      ]
    },
    {
      "cell_type": "code",
      "execution_count": 23,
      "id": "31b20cbf-5e15-47d9-9948-8ee0f59e861b",
      "metadata": {
        "id": "31b20cbf-5e15-47d9-9948-8ee0f59e861b"
      },
      "outputs": [],
      "source": [
        ""
      ]
    },
    {
      "cell_type": "code",
      "execution_count": 24,
      "id": "8eae7e5a-7558-4e7d-807f-b227ab5e6f63",
      "metadata": {
        "id": "8eae7e5a-7558-4e7d-807f-b227ab5e6f63",
        "outputId": "48ea4f17-748b-455f-e209-504696197a9c",
        "colab": {
          "base_uri": "https://localhost:8080/"
        }
      },
      "outputs": [
        {
          "output_type": "stream",
          "name": "stdout",
          "text": [
            "\n",
            "Accuracy Score of Base Model -  0.38546866333887964\n",
            "\n"
          ]
        }
      ],
      "source": [
        "\n",
        "clf = DummyClassifier(strategy='most_frequent')\n",
        "\n",
        "clf.fit(X_train, Y_train)\n",
        "\n",
        "Y_pred_baseline = clf.predict(X_test)\n",
        "\n",
        "print()\n",
        "print ('Accuracy Score of Base Model - ', accuracy_score(Y_test, Y_pred_baseline))\n",
        "print()"
      ]
    },
    {
      "cell_type": "code",
      "execution_count": 24,
      "id": "6ddc5b6d-d073-4426-ba05-d08a71ce45c3",
      "metadata": {
        "id": "6ddc5b6d-d073-4426-ba05-d08a71ce45c3"
      },
      "outputs": [],
      "source": [
        ""
      ]
    },
    {
      "cell_type": "code",
      "execution_count": 25,
      "id": "309fa855-a07c-448d-8619-cd94f7b69019",
      "metadata": {
        "id": "309fa855-a07c-448d-8619-cd94f7b69019",
        "outputId": "3ed947f4-3092-4d1a-f65a-1d28547223b8",
        "colab": {
          "base_uri": "https://localhost:8080/"
        }
      },
      "outputs": [
        {
          "output_type": "stream",
          "name": "stdout",
          "text": [
            "\n",
            "Accuracy Score of Base Model -  0.38546866333887964\n",
            "\n"
          ]
        }
      ],
      "source": [
        "\n",
        "clf = DummyClassifier(strategy='most_frequent')\n",
        "\n",
        "clf.fit(X_train, Y_train)\n",
        "\n",
        "Y_pred_baseline = clf.predict(X_test)\n",
        "\n",
        "print()\n",
        "print ('Accuracy Score of Base Model - ', accuracy_score(Y_test, Y_pred_baseline))\n",
        "print()"
      ]
    },
    {
      "cell_type": "code",
      "execution_count": 25,
      "id": "0d1d23b9-07e5-4226-b7e1-41d21372a708",
      "metadata": {
        "id": "0d1d23b9-07e5-4226-b7e1-41d21372a708"
      },
      "outputs": [],
      "source": [
        ""
      ]
    },
    {
      "cell_type": "code",
      "execution_count": 26,
      "id": "f15135a3-9c7f-4782-b797-f81b4e939e42",
      "metadata": {
        "id": "f15135a3-9c7f-4782-b797-f81b4e939e42"
      },
      "outputs": [],
      "source": [
        "tfidf = TfidfVectorizer(stop_words='english', min_df=5, ngram_range=(1, 6))\n",
        "model = SVC(kernel=\"linear\", C=1, probability=True, random_state=42)"
      ]
    },
    {
      "cell_type": "code",
      "execution_count": 27,
      "id": "88fe4ceb-0271-4df7-9d82-a2071f534780",
      "metadata": {
        "id": "88fe4ceb-0271-4df7-9d82-a2071f534780"
      },
      "outputs": [],
      "source": [
        "model_pipeline = Pipeline(\n",
        "            steps=[('tfidf', tfidf), \n",
        "                   ('model', model)\n",
        "                  ]\n",
        "            )"
      ]
    },
    {
      "cell_type": "code",
      "execution_count": 28,
      "id": "3ba12f9c-948f-4d12-bad2-1a7635c0fb80",
      "metadata": {
        "id": "3ba12f9c-948f-4d12-bad2-1a7635c0fb80",
        "outputId": "c4d99f3e-c61c-495e-d85e-f8e30993d2ee",
        "colab": {
          "base_uri": "https://localhost:8080/"
        }
      },
      "outputs": [
        {
          "output_type": "execute_result",
          "data": {
            "text/plain": [
              "Pipeline(steps=[('tfidf',\n",
              "                 TfidfVectorizer(min_df=5, ngram_range=(1, 6),\n",
              "                                 stop_words='english')),\n",
              "                ('model',\n",
              "                 SVC(C=1, kernel='linear', probability=True, random_state=42))])"
            ]
          },
          "metadata": {},
          "execution_count": 28
        }
      ],
      "source": [
        "model_pipeline.fit(X_train, Y_train)"
      ]
    },
    {
      "cell_type": "code",
      "execution_count": 29,
      "id": "d034ab45-445c-49c1-b62c-fbcb800a11eb",
      "metadata": {
        "id": "d034ab45-445c-49c1-b62c-fbcb800a11eb"
      },
      "outputs": [],
      "source": [
        ""
      ]
    },
    {
      "cell_type": "code",
      "source": [
        ""
      ],
      "metadata": {
        "id": "DdKsAFlJeJOW"
      },
      "id": "DdKsAFlJeJOW",
      "execution_count": null,
      "outputs": []
    },
    {
      "cell_type": "code",
      "execution_count": 30,
      "id": "4dbd6f0d-b27a-4f89-b940-4e37bed04ede",
      "metadata": {
        "id": "4dbd6f0d-b27a-4f89-b940-4e37bed04ede"
      },
      "outputs": [],
      "source": [
        "Y_pred = model_pipeline.predict(X_test)"
      ]
    },
    {
      "cell_type": "code",
      "execution_count": 32,
      "id": "5eec7a07-ec21-4084-8312-50d62a5df31a",
      "metadata": {
        "id": "5eec7a07-ec21-4084-8312-50d62a5df31a",
        "outputId": "6aa47087-bd93-46ab-b4ed-6245d7ba5f17",
        "colab": {
          "base_uri": "https://localhost:8080/"
        }
      },
      "outputs": [
        {
          "output_type": "stream",
          "name": "stdout",
          "text": [
            "Test Accuracy Score :  0.7498613422074321\n",
            "Trian Accuracy Score:  0.9134295227524972\n"
          ]
        }
      ],
      "source": [
        "print(\"Test Accuracy Score : \", accuracy_score(Y_test, Y_pred))\n",
        "print(\"Trian Accuracy Score: \", accuracy_score(Y_train, model_pipeline.predict(X_train)))"
      ]
    },
    {
      "cell_type": "code",
      "source": [
        "print(classification_report(Y_test, Y_pred))"
      ],
      "metadata": {
        "id": "S_AdgHnHeMv-",
        "outputId": "92c24552-e7e8-4dcf-efe1-61de91136ef5",
        "colab": {
          "base_uri": "https://localhost:8080/"
        }
      },
      "id": "S_AdgHnHeMv-",
      "execution_count": 81,
      "outputs": [
        {
          "output_type": "stream",
          "name": "stdout",
          "text": [
            "              precision    recall  f1-score   support\n",
            "\n",
            "         APT       0.83      0.31      0.45        16\n",
            "        Core       0.73      0.77      0.75       545\n",
            "       Debug       0.89      0.79      0.84       300\n",
            "         Doc       0.62      0.42      0.50        12\n",
            "        Text       0.67      0.51      0.58       235\n",
            "          UI       0.74      0.81      0.77       695\n",
            "\n",
            "    accuracy                           0.75      1803\n",
            "   macro avg       0.75      0.60      0.65      1803\n",
            "weighted avg       0.75      0.75      0.75      1803\n",
            "\n"
          ]
        }
      ]
    },
    {
      "cell_type": "code",
      "source": [
        ""
      ],
      "metadata": {
        "id": "7WzUx7_JeMs-"
      },
      "id": "7WzUx7_JeMs-",
      "execution_count": null,
      "outputs": []
    },
    {
      "cell_type": "code",
      "source": [
        ""
      ],
      "metadata": {
        "id": "9D6HUxk8eMg-"
      },
      "id": "9D6HUxk8eMg-",
      "execution_count": null,
      "outputs": []
    },
    {
      "cell_type": "markdown",
      "source": [
        "### Visualising Important features for each components"
      ],
      "metadata": {
        "id": "Rhy5FICyeTMW"
      },
      "id": "Rhy5FICyeTMW"
    },
    {
      "cell_type": "code",
      "source": [
        "result = {'text': X_test, 'actual': Y_test, 'predicted': Y_pred}\n",
        "result = pd.DataFrame(result)\n",
        "\n",
        "result[result['actual'] != result['predicted']].head(4)"
      ],
      "metadata": {
        "id": "3XpWazFmbF-Q",
        "outputId": "192c6492-8300-48f8-96fa-4f0cf4e12983",
        "colab": {
          "base_uri": "https://localhost:8080/",
          "height": 175
        }
      },
      "id": "3XpWazFmbF-Q",
      "execution_count": 56,
      "outputs": [
        {
          "output_type": "execute_result",
          "data": {
            "text/html": [
              "\n",
              "  <div id=\"df-1ee06ccf-b068-4bd4-8fc7-60dc8cb6a101\">\n",
              "    <div class=\"colab-df-container\">\n",
              "      <div>\n",
              "<style scoped>\n",
              "    .dataframe tbody tr th:only-of-type {\n",
              "        vertical-align: middle;\n",
              "    }\n",
              "\n",
              "    .dataframe tbody tr th {\n",
              "        vertical-align: top;\n",
              "    }\n",
              "\n",
              "    .dataframe thead th {\n",
              "        text-align: right;\n",
              "    }\n",
              "</style>\n",
              "<table border=\"1\" class=\"dataframe\">\n",
              "  <thead>\n",
              "    <tr style=\"text-align: right;\">\n",
              "      <th></th>\n",
              "      <th>text</th>\n",
              "      <th>actual</th>\n",
              "      <th>predicted</th>\n",
              "    </tr>\n",
              "  </thead>\n",
              "  <tbody>\n",
              "    <tr>\n",
              "      <th>3</th>\n",
              "      <td>All types cache populated during start-up When...</td>\n",
              "      <td>UI</td>\n",
              "      <td>Core</td>\n",
              "    </tr>\n",
              "    <tr>\n",
              "      <th>13</th>\n",
              "      <td>QualifiedNameReference#indexOfFirstFieldBindin...</td>\n",
              "      <td>Core</td>\n",
              "      <td>UI</td>\n",
              "    </tr>\n",
              "    <tr>\n",
              "      <th>14</th>\n",
              "      <td>Searching for Inner Classes gives bad search r...</td>\n",
              "      <td>Core</td>\n",
              "      <td>UI</td>\n",
              "    </tr>\n",
              "    <tr>\n",
              "      <th>17</th>\n",
              "      <td>Returns: oddly highlighted in Content Assist J...</td>\n",
              "      <td>UI</td>\n",
              "      <td>Text</td>\n",
              "    </tr>\n",
              "  </tbody>\n",
              "</table>\n",
              "</div>\n",
              "      <button class=\"colab-df-convert\" onclick=\"convertToInteractive('df-1ee06ccf-b068-4bd4-8fc7-60dc8cb6a101')\"\n",
              "              title=\"Convert this dataframe to an interactive table.\"\n",
              "              style=\"display:none;\">\n",
              "        \n",
              "  <svg xmlns=\"http://www.w3.org/2000/svg\" height=\"24px\"viewBox=\"0 0 24 24\"\n",
              "       width=\"24px\">\n",
              "    <path d=\"M0 0h24v24H0V0z\" fill=\"none\"/>\n",
              "    <path d=\"M18.56 5.44l.94 2.06.94-2.06 2.06-.94-2.06-.94-.94-2.06-.94 2.06-2.06.94zm-11 1L8.5 8.5l.94-2.06 2.06-.94-2.06-.94L8.5 2.5l-.94 2.06-2.06.94zm10 10l.94 2.06.94-2.06 2.06-.94-2.06-.94-.94-2.06-.94 2.06-2.06.94z\"/><path d=\"M17.41 7.96l-1.37-1.37c-.4-.4-.92-.59-1.43-.59-.52 0-1.04.2-1.43.59L10.3 9.45l-7.72 7.72c-.78.78-.78 2.05 0 2.83L4 21.41c.39.39.9.59 1.41.59.51 0 1.02-.2 1.41-.59l7.78-7.78 2.81-2.81c.8-.78.8-2.07 0-2.86zM5.41 20L4 18.59l7.72-7.72 1.47 1.35L5.41 20z\"/>\n",
              "  </svg>\n",
              "      </button>\n",
              "      \n",
              "  <style>\n",
              "    .colab-df-container {\n",
              "      display:flex;\n",
              "      flex-wrap:wrap;\n",
              "      gap: 12px;\n",
              "    }\n",
              "\n",
              "    .colab-df-convert {\n",
              "      background-color: #E8F0FE;\n",
              "      border: none;\n",
              "      border-radius: 50%;\n",
              "      cursor: pointer;\n",
              "      display: none;\n",
              "      fill: #1967D2;\n",
              "      height: 32px;\n",
              "      padding: 0 0 0 0;\n",
              "      width: 32px;\n",
              "    }\n",
              "\n",
              "    .colab-df-convert:hover {\n",
              "      background-color: #E2EBFA;\n",
              "      box-shadow: 0px 1px 2px rgba(60, 64, 67, 0.3), 0px 1px 3px 1px rgba(60, 64, 67, 0.15);\n",
              "      fill: #174EA6;\n",
              "    }\n",
              "\n",
              "    [theme=dark] .colab-df-convert {\n",
              "      background-color: #3B4455;\n",
              "      fill: #D2E3FC;\n",
              "    }\n",
              "\n",
              "    [theme=dark] .colab-df-convert:hover {\n",
              "      background-color: #434B5C;\n",
              "      box-shadow: 0px 1px 3px 1px rgba(0, 0, 0, 0.15);\n",
              "      filter: drop-shadow(0px 1px 2px rgba(0, 0, 0, 0.3));\n",
              "      fill: #FFFFFF;\n",
              "    }\n",
              "  </style>\n",
              "\n",
              "      <script>\n",
              "        const buttonEl =\n",
              "          document.querySelector('#df-1ee06ccf-b068-4bd4-8fc7-60dc8cb6a101 button.colab-df-convert');\n",
              "        buttonEl.style.display =\n",
              "          google.colab.kernel.accessAllowed ? 'block' : 'none';\n",
              "\n",
              "        async function convertToInteractive(key) {\n",
              "          const element = document.querySelector('#df-1ee06ccf-b068-4bd4-8fc7-60dc8cb6a101');\n",
              "          const dataTable =\n",
              "            await google.colab.kernel.invokeFunction('convertToInteractive',\n",
              "                                                     [key], {});\n",
              "          if (!dataTable) return;\n",
              "\n",
              "          const docLinkHtml = 'Like what you see? Visit the ' +\n",
              "            '<a target=\"_blank\" href=https://colab.research.google.com/notebooks/data_table.ipynb>data table notebook</a>'\n",
              "            + ' to learn more about interactive tables.';\n",
              "          element.innerHTML = '';\n",
              "          dataTable['output_type'] = 'display_data';\n",
              "          await google.colab.output.renderOutput(dataTable, element);\n",
              "          const docLink = document.createElement('div');\n",
              "          docLink.innerHTML = docLinkHtml;\n",
              "          element.appendChild(docLink);\n",
              "        }\n",
              "      </script>\n",
              "    </div>\n",
              "  </div>\n",
              "  "
            ],
            "text/plain": [
              "                                                 text actual predicted\n",
              "3   All types cache populated during start-up When...     UI      Core\n",
              "13  QualifiedNameReference#indexOfFirstFieldBindin...   Core        UI\n",
              "14  Searching for Inner Classes gives bad search r...   Core        UI\n",
              "17  Returns: oddly highlighted in Content Assist J...     UI      Text"
            ]
          },
          "metadata": {},
          "execution_count": 56
        }
      ]
    },
    {
      "cell_type": "code",
      "source": [
        "result.iloc[3]['text']"
      ],
      "metadata": {
        "id": "ziBhu7U1a8WV",
        "outputId": "82467d1d-28b8-4468-9560-ddf6e97ee8f2",
        "colab": {
          "base_uri": "https://localhost:8080/",
          "height": 87
        }
      },
      "id": "ziBhu7U1a8WV",
      "execution_count": 57,
      "outputs": [
        {
          "output_type": "execute_result",
          "data": {
            "application/vnd.google.colaboratory.intrinsic+json": {
              "type": "string"
            },
            "text/plain": [
              "'All types cache populated during start-up When restoring a crashed workspace the AllTypeCache Updater has shown-up ; during the start-up sequence before an event loop is active.; ; The suspicion is that this updating is triggered by a delta before the ; runnable that triggers the initial population is executed.; ; The solution we have discussed is that the all types cache should ignore ; deltas and not start updating before the runnable is executed.'"
            ]
          },
          "metadata": {},
          "execution_count": 57
        }
      ]
    },
    {
      "cell_type": "code",
      "source": [
        ""
      ],
      "metadata": {
        "id": "H4SOBbAua-uy"
      },
      "id": "H4SOBbAua-uy",
      "execution_count": 44,
      "outputs": []
    },
    {
      "cell_type": "code",
      "source": [
        "class_name = model.classes_.tolist()\n",
        "print(class_name)"
      ],
      "metadata": {
        "id": "k4t_Kk3Kc2VO",
        "outputId": "b380bb49-a171-4b8e-fafd-c458aa5af630",
        "colab": {
          "base_uri": "https://localhost:8080/"
        }
      },
      "id": "k4t_Kk3Kc2VO",
      "execution_count": 77,
      "outputs": [
        {
          "output_type": "stream",
          "name": "stdout",
          "text": [
            "['APT', 'Core', 'Debug', 'Doc', 'Text', 'UI']\n"
          ]
        }
      ]
    },
    {
      "cell_type": "code",
      "source": [
        "model_pipeline.predict_proba(pd.Series(result.iloc[3]['text']))"
      ],
      "metadata": {
        "id": "aVYAxbSHb74F",
        "outputId": "bb657221-c913-4dd1-db7e-16f91143da1e",
        "colab": {
          "base_uri": "https://localhost:8080/"
        }
      },
      "id": "aVYAxbSHb74F",
      "execution_count": 58,
      "outputs": [
        {
          "output_type": "execute_result",
          "data": {
            "text/plain": [
              "array([[0.00355295, 0.62874356, 0.06939986, 0.00398987, 0.01868298,\n",
              "        0.27563078]])"
            ]
          },
          "metadata": {},
          "execution_count": 58
        }
      ]
    },
    {
      "cell_type": "code",
      "source": [
        ""
      ],
      "metadata": {
        "id": "Rw6eUBgkb71R"
      },
      "id": "Rw6eUBgkb71R",
      "execution_count": null,
      "outputs": []
    },
    {
      "cell_type": "code",
      "source": [
        "prob = model_pipeline.predict_proba(X_test)"
      ],
      "metadata": {
        "id": "eL-pjUDWb7xa"
      },
      "id": "eL-pjUDWb7xa",
      "execution_count": 61,
      "outputs": []
    },
    {
      "cell_type": "code",
      "source": [
        "er = result.copy()"
      ],
      "metadata": {
        "id": "ZwZXMTXtb7uF"
      },
      "id": "ZwZXMTXtb7uF",
      "execution_count": 72,
      "outputs": []
    },
    {
      "cell_type": "code",
      "source": [
        "for i, c in enumerate(class_name):\n",
        "  er[c] = prob[:, i]"
      ],
      "metadata": {
        "id": "w7IiBxcqb7rx"
      },
      "id": "w7IiBxcqb7rx",
      "execution_count": 73,
      "outputs": []
    },
    {
      "cell_type": "code",
      "source": [
        ""
      ],
      "metadata": {
        "id": "EceHb5SGdKID"
      },
      "id": "EceHb5SGdKID",
      "execution_count": 67,
      "outputs": []
    },
    {
      "cell_type": "code",
      "source": [
        "er[[\"actual\", \"predicted\"] + class_name].sample(4, random_state = 42)"
      ],
      "metadata": {
        "id": "AZMs8mGZdbYM",
        "outputId": "f9911463-a0b4-47ed-8732-6ea7d55f97b0",
        "colab": {
          "base_uri": "https://localhost:8080/",
          "height": 175
        }
      },
      "id": "AZMs8mGZdbYM",
      "execution_count": 79,
      "outputs": [
        {
          "output_type": "execute_result",
          "data": {
            "text/html": [
              "\n",
              "  <div id=\"df-3e36f27d-b394-4ac4-af66-fa8b65c8e713\">\n",
              "    <div class=\"colab-df-container\">\n",
              "      <div>\n",
              "<style scoped>\n",
              "    .dataframe tbody tr th:only-of-type {\n",
              "        vertical-align: middle;\n",
              "    }\n",
              "\n",
              "    .dataframe tbody tr th {\n",
              "        vertical-align: top;\n",
              "    }\n",
              "\n",
              "    .dataframe thead th {\n",
              "        text-align: right;\n",
              "    }\n",
              "</style>\n",
              "<table border=\"1\" class=\"dataframe\">\n",
              "  <thead>\n",
              "    <tr style=\"text-align: right;\">\n",
              "      <th></th>\n",
              "      <th>actual</th>\n",
              "      <th>predicted</th>\n",
              "      <th>APT</th>\n",
              "      <th>Core</th>\n",
              "      <th>Debug</th>\n",
              "      <th>Doc</th>\n",
              "      <th>Text</th>\n",
              "      <th>UI</th>\n",
              "    </tr>\n",
              "  </thead>\n",
              "  <tbody>\n",
              "    <tr>\n",
              "      <th>832</th>\n",
              "      <td>Debug</td>\n",
              "      <td>Debug</td>\n",
              "      <td>0.001760</td>\n",
              "      <td>0.007375</td>\n",
              "      <td>0.963737</td>\n",
              "      <td>0.001066</td>\n",
              "      <td>0.001504</td>\n",
              "      <td>0.024557</td>\n",
              "    </tr>\n",
              "    <tr>\n",
              "      <th>613</th>\n",
              "      <td>Core</td>\n",
              "      <td>Core</td>\n",
              "      <td>0.123085</td>\n",
              "      <td>0.863278</td>\n",
              "      <td>0.001111</td>\n",
              "      <td>0.001061</td>\n",
              "      <td>0.009430</td>\n",
              "      <td>0.002036</td>\n",
              "    </tr>\n",
              "    <tr>\n",
              "      <th>1582</th>\n",
              "      <td>Core</td>\n",
              "      <td>UI</td>\n",
              "      <td>0.005588</td>\n",
              "      <td>0.173184</td>\n",
              "      <td>0.095960</td>\n",
              "      <td>0.004657</td>\n",
              "      <td>0.146162</td>\n",
              "      <td>0.574449</td>\n",
              "    </tr>\n",
              "    <tr>\n",
              "      <th>162</th>\n",
              "      <td>Core</td>\n",
              "      <td>Core</td>\n",
              "      <td>0.001247</td>\n",
              "      <td>0.684893</td>\n",
              "      <td>0.091159</td>\n",
              "      <td>0.000875</td>\n",
              "      <td>0.020846</td>\n",
              "      <td>0.200981</td>\n",
              "    </tr>\n",
              "  </tbody>\n",
              "</table>\n",
              "</div>\n",
              "      <button class=\"colab-df-convert\" onclick=\"convertToInteractive('df-3e36f27d-b394-4ac4-af66-fa8b65c8e713')\"\n",
              "              title=\"Convert this dataframe to an interactive table.\"\n",
              "              style=\"display:none;\">\n",
              "        \n",
              "  <svg xmlns=\"http://www.w3.org/2000/svg\" height=\"24px\"viewBox=\"0 0 24 24\"\n",
              "       width=\"24px\">\n",
              "    <path d=\"M0 0h24v24H0V0z\" fill=\"none\"/>\n",
              "    <path d=\"M18.56 5.44l.94 2.06.94-2.06 2.06-.94-2.06-.94-.94-2.06-.94 2.06-2.06.94zm-11 1L8.5 8.5l.94-2.06 2.06-.94-2.06-.94L8.5 2.5l-.94 2.06-2.06.94zm10 10l.94 2.06.94-2.06 2.06-.94-2.06-.94-.94-2.06-.94 2.06-2.06.94z\"/><path d=\"M17.41 7.96l-1.37-1.37c-.4-.4-.92-.59-1.43-.59-.52 0-1.04.2-1.43.59L10.3 9.45l-7.72 7.72c-.78.78-.78 2.05 0 2.83L4 21.41c.39.39.9.59 1.41.59.51 0 1.02-.2 1.41-.59l7.78-7.78 2.81-2.81c.8-.78.8-2.07 0-2.86zM5.41 20L4 18.59l7.72-7.72 1.47 1.35L5.41 20z\"/>\n",
              "  </svg>\n",
              "      </button>\n",
              "      \n",
              "  <style>\n",
              "    .colab-df-container {\n",
              "      display:flex;\n",
              "      flex-wrap:wrap;\n",
              "      gap: 12px;\n",
              "    }\n",
              "\n",
              "    .colab-df-convert {\n",
              "      background-color: #E8F0FE;\n",
              "      border: none;\n",
              "      border-radius: 50%;\n",
              "      cursor: pointer;\n",
              "      display: none;\n",
              "      fill: #1967D2;\n",
              "      height: 32px;\n",
              "      padding: 0 0 0 0;\n",
              "      width: 32px;\n",
              "    }\n",
              "\n",
              "    .colab-df-convert:hover {\n",
              "      background-color: #E2EBFA;\n",
              "      box-shadow: 0px 1px 2px rgba(60, 64, 67, 0.3), 0px 1px 3px 1px rgba(60, 64, 67, 0.15);\n",
              "      fill: #174EA6;\n",
              "    }\n",
              "\n",
              "    [theme=dark] .colab-df-convert {\n",
              "      background-color: #3B4455;\n",
              "      fill: #D2E3FC;\n",
              "    }\n",
              "\n",
              "    [theme=dark] .colab-df-convert:hover {\n",
              "      background-color: #434B5C;\n",
              "      box-shadow: 0px 1px 3px 1px rgba(0, 0, 0, 0.15);\n",
              "      filter: drop-shadow(0px 1px 2px rgba(0, 0, 0, 0.3));\n",
              "      fill: #FFFFFF;\n",
              "    }\n",
              "  </style>\n",
              "\n",
              "      <script>\n",
              "        const buttonEl =\n",
              "          document.querySelector('#df-3e36f27d-b394-4ac4-af66-fa8b65c8e713 button.colab-df-convert');\n",
              "        buttonEl.style.display =\n",
              "          google.colab.kernel.accessAllowed ? 'block' : 'none';\n",
              "\n",
              "        async function convertToInteractive(key) {\n",
              "          const element = document.querySelector('#df-3e36f27d-b394-4ac4-af66-fa8b65c8e713');\n",
              "          const dataTable =\n",
              "            await google.colab.kernel.invokeFunction('convertToInteractive',\n",
              "                                                     [key], {});\n",
              "          if (!dataTable) return;\n",
              "\n",
              "          const docLinkHtml = 'Like what you see? Visit the ' +\n",
              "            '<a target=\"_blank\" href=https://colab.research.google.com/notebooks/data_table.ipynb>data table notebook</a>'\n",
              "            + ' to learn more about interactive tables.';\n",
              "          element.innerHTML = '';\n",
              "          dataTable['output_type'] = 'display_data';\n",
              "          await google.colab.output.renderOutput(dataTable, element);\n",
              "          const docLink = document.createElement('div');\n",
              "          docLink.innerHTML = docLinkHtml;\n",
              "          element.appendChild(docLink);\n",
              "        }\n",
              "      </script>\n",
              "    </div>\n",
              "  </div>\n",
              "  "
            ],
            "text/plain": [
              "     actual predicted       APT  ...       Doc      Text        UI\n",
              "832   Debug     Debug  0.001760  ...  0.001066  0.001504  0.024557\n",
              "613    Core      Core  0.123085  ...  0.001061  0.009430  0.002036\n",
              "1582   Core        UI  0.005588  ...  0.004657  0.146162  0.574449\n",
              "162    Core      Core  0.001247  ...  0.000875  0.020846  0.200981\n",
              "\n",
              "[4 rows x 8 columns]"
            ]
          },
          "metadata": {},
          "execution_count": 79
        }
      ]
    },
    {
      "cell_type": "code",
      "source": [
        "er['max_prob'] = er[class_name].max(axis=1)"
      ],
      "metadata": {
        "id": "gDtoxH8AdbwX"
      },
      "id": "gDtoxH8AdbwX",
      "execution_count": 82,
      "outputs": []
    },
    {
      "cell_type": "code",
      "source": [
        "correct = er[er['actual'] == er['predicted']]\n",
        "wrong = er[er['actual'] != er['predicted']]"
      ],
      "metadata": {
        "id": "URfvKvtad0so"
      },
      "id": "URfvKvtad0so",
      "execution_count": 83,
      "outputs": []
    },
    {
      "cell_type": "code",
      "source": [
        "correct['max_prob'].plot.hist(title = 'Correct');"
      ],
      "metadata": {
        "id": "JKYEq3LBd0qm",
        "outputId": "812d1edb-450f-4a1f-8fa9-105f28b03d53",
        "colab": {
          "base_uri": "https://localhost:8080/",
          "height": 301
        }
      },
      "id": "JKYEq3LBd0qm",
      "execution_count": 89,
      "outputs": [
        {
          "output_type": "execute_result",
          "data": {
            "text/plain": [
              "<matplotlib.axes._subplots.AxesSubplot at 0x7f8ad64d2190>"
            ]
          },
          "metadata": {},
          "execution_count": 89
        },
        {
          "output_type": "display_data",
          "data": {
            "image/png": "[encoded data removed]",
            "text/plain": [
              "<Figure size 432x288 with 1 Axes>"
            ]
          },
          "metadata": {}
        }
      ]
    },
    {
      "cell_type": "code",
      "source": [
        "wrong['max_prob'].plot.hist(title = 'Wrong');"
      ],
      "metadata": {
        "id": "5Dif4t8ld0oO",
        "outputId": "8a0686d6-d092-4584-936c-b83c637811bf",
        "colab": {
          "base_uri": "https://localhost:8080/",
          "height": 284
        }
      },
      "id": "5Dif4t8ld0oO",
      "execution_count": 91,
      "outputs": [
        {
          "output_type": "display_data",
          "data": {
            "image/png": "[encoded data removed]",
            "text/plain": [
              "<Figure size 432x288 with 1 Axes>"
            ]
          },
          "metadata": {}
        }
      ]
    },
    {
      "cell_type": "code",
      "source": [
        "# We can see that in the case of correct predictions, the model often decided with high\n",
        "# probabilities, whereas the probabilities were considerably lower when the decision\n",
        "# was wrong."
      ],
      "metadata": {
        "id": "Zio8f7khd0l8"
      },
      "id": "Zio8f7khd0l8",
      "execution_count": 92,
      "outputs": []
    },
    {
      "cell_type": "code",
      "source": [
        ""
      ],
      "metadata": {
        "id": "zS9DRePxfUlk"
      },
      "id": "zS9DRePxfUlk",
      "execution_count": 92,
      "outputs": []
    },
    {
      "cell_type": "code",
      "source": [
        "high = er[er[\"max_prob\"] > 0.8]\n",
        "print(classification_report(high[\"actual\"], high[\"predicted\"]))"
      ],
      "metadata": {
        "id": "rQrqG9oIfUio",
        "outputId": "e0a82b47-4abc-4441-ae0c-6acd8295df09",
        "colab": {
          "base_uri": "https://localhost:8080/"
        }
      },
      "id": "rQrqG9oIfUio",
      "execution_count": 94,
      "outputs": [
        {
          "output_type": "stream",
          "name": "stdout",
          "text": [
            "              precision    recall  f1-score   support\n",
            "\n",
            "         APT       0.83      0.71      0.77         7\n",
            "        Core       0.92      0.90      0.91       282\n",
            "       Debug       0.92      0.94      0.93       218\n",
            "         Doc       0.62      0.83      0.71         6\n",
            "        Text       0.80      0.72      0.76        78\n",
            "          UI       0.88      0.91      0.89       340\n",
            "\n",
            "    accuracy                           0.90       931\n",
            "   macro avg       0.83      0.84      0.83       931\n",
            "weighted avg       0.90      0.90      0.90       931\n",
            "\n"
          ]
        }
      ]
    },
    {
      "cell_type": "code",
      "source": [
        "print(classification_report(er[\"actual\"], er[\"predicted\"]))"
      ],
      "metadata": {
        "id": "iRPnqvhQfT0U",
        "outputId": "c435d6e9-18c2-4fcb-9949-067f7f2cbf71",
        "colab": {
          "base_uri": "https://localhost:8080/"
        }
      },
      "id": "iRPnqvhQfT0U",
      "execution_count": 95,
      "outputs": [
        {
          "output_type": "stream",
          "name": "stdout",
          "text": [
            "              precision    recall  f1-score   support\n",
            "\n",
            "         APT       0.83      0.31      0.45        16\n",
            "        Core       0.73      0.77      0.75       545\n",
            "       Debug       0.89      0.79      0.84       300\n",
            "         Doc       0.62      0.42      0.50        12\n",
            "        Text       0.67      0.51      0.58       235\n",
            "          UI       0.74      0.81      0.77       695\n",
            "\n",
            "    accuracy                           0.75      1803\n",
            "   macro avg       0.75      0.60      0.65      1803\n",
            "weighted avg       0.75      0.75      0.75      1803\n",
            "\n"
          ]
        }
      ]
    },
    {
      "cell_type": "code",
      "source": [
        ""
      ],
      "metadata": {
        "id": "EwEXvhVRfTx6"
      },
      "id": "EwEXvhVRfTx6",
      "execution_count": 101,
      "outputs": []
    },
    {
      "cell_type": "code",
      "source": [
        "class_name"
      ],
      "metadata": {
        "id": "iCw_dQ6shHVh",
        "outputId": "7ae1ceaa-6145-40b4-c3b6-cbc13517d61d",
        "colab": {
          "base_uri": "https://localhost:8080/"
        }
      },
      "id": "iCw_dQ6shHVh",
      "execution_count": 103,
      "outputs": [
        {
          "output_type": "execute_result",
          "data": {
            "text/plain": [
              "['APT', 'Core', 'Debug', 'Doc', 'Text', 'UI']"
            ]
          },
          "metadata": {},
          "execution_count": 103
        }
      ]
    },
    {
      "cell_type": "code",
      "source": [
        "def plot_coef(coef, top_words = 20, title = None, figsize = (4, 6), **kwargs):\n",
        "  vocabulary_position = coef.argsort()\n",
        "  vocabulary = tfidf.get_feature_names_out()\n",
        "\n",
        "  top_positive_coef = vocabulary_position[-top_words:].tolist()\n",
        "  top_negative_coef = vocabulary_position[:top_words].tolist()\n",
        "\n",
        "  core = pd.DataFrame([[vocabulary[c], coef[c]]\n",
        "                      for c in top_positive_coef + top_negative_coef],\n",
        "                    columns=[\"feature\", \"coefficient\"]).sort_values(\"coefficient\")\n",
        "\n",
        "  core.set_index(\"feature\").plot.barh(figsize=figsize, title = title, **kwargs);"
      ],
      "metadata": {
        "id": "8nzGCownjKUy"
      },
      "id": "8nzGCownjKUy",
      "execution_count": 154,
      "outputs": []
    },
    {
      "cell_type": "code",
      "source": [
        "c = model.coef_"
      ],
      "metadata": {
        "id": "dXrBFTlKg3ri"
      },
      "id": "dXrBFTlKg3ri",
      "execution_count": 155,
      "outputs": []
    },
    {
      "cell_type": "code",
      "source": [
        ""
      ],
      "metadata": {
        "id": "mbaGU0sUhYlw"
      },
      "id": "mbaGU0sUhYlw",
      "execution_count": 155,
      "outputs": []
    },
    {
      "cell_type": "code",
      "source": [
        "core_coef = (c[5] + c[6] + c[7] + c[8] - c[0]).A[0]\n",
        "plot_coef(core_coef, top_words=5, title = 'Features important to identify Core Component', figsize=(6, 4))"
      ],
      "metadata": {
        "id": "kLj512uag4N7",
        "outputId": "23e5dd74-f21a-459a-81d9-91193a24e087",
        "colab": {
          "base_uri": "https://localhost:8080/",
          "height": 284
        }
      },
      "id": "kLj512uag4N7",
      "execution_count": 156,
      "outputs": [
        {
          "output_type": "display_data",
          "data": {
            "image/png": "[encoded data removed]",
            "text/plain": [
              "<Figure size 432x288 with 1 Axes>"
            ]
          },
          "metadata": {}
        }
      ]
    },
    {
      "cell_type": "code",
      "source": [
        ""
      ],
      "metadata": {
        "id": "3spKBJ1kg437"
      },
      "id": "3spKBJ1kg437",
      "execution_count": 156,
      "outputs": []
    },
    {
      "cell_type": "code",
      "source": [
        "debug_coef = (c[1] + c[5] + c[9] + c[10] + c[11]).A[0]\n",
        "\n",
        "plot_coef(debug_coef, top_words=7, title = 'Features important to identify Debug Component', figsize=(6, 4))"
      ],
      "metadata": {
        "id": "CZpHivAtg5HT",
        "outputId": "96c6780c-3aaf-4fdb-af16-bdb360da808a",
        "colab": {
          "base_uri": "https://localhost:8080/",
          "height": 284
        }
      },
      "id": "CZpHivAtg5HT",
      "execution_count": 160,
      "outputs": [
        {
          "output_type": "display_data",
          "data": {
            "image/png": "[encoded data removed]",
            "text/plain": [
              "<Figure size 432x288 with 1 Axes>"
            ]
          },
          "metadata": {}
        }
      ]
    },
    {
      "cell_type": "code",
      "source": [
        ""
      ],
      "metadata": {
        "id": "sIrydSzmlyLz"
      },
      "id": "sIrydSzmlyLz",
      "execution_count": 157,
      "outputs": []
    },
    {
      "cell_type": "code",
      "source": [
        "ui_coef = (c[4] + c[8] + c[11] + c[13] + c[14]).A[0]\n",
        "\n",
        "plot_coef(ui_coef, top_words=7, title = 'Features important to identify UI Component', figsize=(6, 4))"
      ],
      "metadata": {
        "id": "GZzIbuYsl80S",
        "outputId": "5ba1d426-10b2-42fc-9229-ac0005e52664",
        "colab": {
          "base_uri": "https://localhost:8080/",
          "height": 284
        }
      },
      "id": "GZzIbuYsl80S",
      "execution_count": 159,
      "outputs": [
        {
          "output_type": "display_data",
          "data": {
            "image/png": "[encoded data removed]",
            "text/plain": [
              "<Figure size 432x288 with 1 Axes>"
            ]
          },
          "metadata": {}
        }
      ]
    },
    {
      "cell_type": "code",
      "source": [
        ""
      ],
      "metadata": {
        "id": "33M3ruqFl9LQ"
      },
      "id": "33M3ruqFl9LQ",
      "execution_count": null,
      "outputs": []
    },
    {
      "cell_type": "code",
      "source": [
        ""
      ],
      "metadata": {
        "id": "Fs7JZUGtl9eS"
      },
      "id": "Fs7JZUGtl9eS",
      "execution_count": null,
      "outputs": []
    }
  ],
  "metadata": {
    "kernelspec": {
      "display_name": "Python 3",
      "language": "python",
      "name": "python3"
    },
    "language_info": {
      "codemirror_mode": {
        "name": "ipython",
        "version": 3
      },
      "file_extension": ".py",
      "mimetype": "text/x-python",
      "name": "python",
      "nbconvert_exporter": "python",
      "pygments_lexer": "ipython3",
      "version": "3.9.5"
    },
    "colab": {
      "name": "bug_classifier.ipynb",
      "provenance": []
    }
  },
  "nbformat": 4,
  "nbformat_minor": 5
}